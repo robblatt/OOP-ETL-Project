{
 "cells": [
  {
   "cell_type": "markdown",
   "metadata": {},
   "source": [
    "# MODULE 2 Project"
   ]
  },
  {
   "cell_type": "markdown",
   "metadata": {},
   "source": [
    "### Import stuff"
   ]
  },
  {
   "cell_type": "code",
   "execution_count": 1,
   "metadata": {},
   "outputs": [],
   "source": [
    "import sqlite3\n",
    "import pandas as pd\n",
    "import warnings\n",
    "warnings.filterwarnings('ignore')"
   ]
  },
  {
   "cell_type": "code",
   "execution_count": 2,
   "metadata": {},
   "outputs": [],
   "source": [
    "import numpy as np\n",
    "import matplotlib.pyplot as plt\n",
    "%matplotlib inline\n",
    "plt.style.use('ggplot')"
   ]
  },
  {
   "cell_type": "code",
   "execution_count": 3,
   "metadata": {},
   "outputs": [],
   "source": [
    "import pymongo"
   ]
  },
  {
   "cell_type": "code",
   "execution_count": 4,
   "metadata": {},
   "outputs": [],
   "source": [
    "conn = sqlite3.Connection('database.sqlite')\n",
    "c = conn.cursor()"
   ]
  },
  {
   "cell_type": "markdown",
   "metadata": {},
   "source": [
    "### Create class to access sqlite database"
   ]
  },
  {
   "cell_type": "code",
   "execution_count": 5,
   "metadata": {},
   "outputs": [],
   "source": [
    "class Futball(): ### class to get total_goal, total_win, total_loss as a dataframe and for individual team\n",
    "    \n",
    "    def __init__(self, database, year):\n",
    "        self.database = database\n",
    "        self.year = year\n",
    "    \n",
    "    def total_goal(self):\n",
    "        conn = sqlite3.Connection(self.database) #load sqlite connection\n",
    "        c = conn.cursor()\n",
    "        \n",
    "        #selecting hometeam and sum of home goal for total home goal\n",
    "        c.execute('''select m.HomeTeam as Team, Sum(FTHG) as Total_Home_Goal \n",
    "                    from Matches m\n",
    "                    where Season = ''' + self.year +\n",
    "                    ''' \n",
    "                    group by m.HomeTeam\n",
    "                    order by HomeTeam\n",
    "                    ''')\n",
    "        df_home_goals = pd.DataFrame(c.fetchall())\n",
    "        df_home_goals.columns = [x[0] for x in c.description]\n",
    "        \n",
    "        #selecting away team and sum away goal for total away goal\n",
    "        c.execute('''select m.AwayTeam as Team, Sum(FTAG) as Total_Away_Goal\n",
    "                    from Matches m\n",
    "                    where Season = ''' + self.year +\n",
    "                    '''\n",
    "                    group by m.AwayTeam\n",
    "                    order by m.AwayTeam\n",
    "                    ''')\n",
    "        df_away_goals = pd.DataFrame(c.fetchall())\n",
    "        df_away_goals.columns = [x[0] for x in c.description]\n",
    "        \n",
    "        #add the two total home goal and total away goal columns for grand total goal and add to away Dataframe\n",
    "        df_away_goals['Total Goal']= df_home_goals['Total_Home_Goal']+df_away_goals['Total_Away_Goal']\n",
    "        df_away_goals.drop('Total_Away_Goal', axis =1, inplace = True) #drop total away goal and making it just total goal df\n",
    "        \n",
    "        return df_away_goals\n",
    "    \n",
    "    def goal_by_team(self, teamname): #Total Goal for individual team\n",
    "        goal_df = self.total_goal() \n",
    "        return goal_df.loc[goal_df['Team'] == teamname] \n",
    "    \n",
    "    def total_win(self): #same concept at total goal. get total away win and total home win and add together\n",
    "        conn = sqlite3.Connection(self.database)\n",
    "        c = conn.cursor()\n",
    "        \n",
    "        #getting total homewin\n",
    "        c.execute('''select m.HomeTeam as Team, count(FTR) as HomeWin\n",
    "            from Matches m\n",
    "            where Season = ''' + self.year +\n",
    "                    ''' and FTR = 'H'\n",
    "            group by Team\n",
    "            order by Team\n",
    "            ''')\n",
    "        df_home_win = pd.DataFrame(c.fetchall())\n",
    "        df_home_win.columns = [x[0] for x in c.description]\n",
    "        \n",
    "        #getting total away win\n",
    "        c.execute('''select m.AwayTeam as Team, count(FTR) as AwayWin\n",
    "            from Matches m\n",
    "            where Season = ''' + self.year +\n",
    "                    ''' and FTR = 'A'\n",
    "            group by Team\n",
    "            order by Team\n",
    "            ''')\n",
    "        df_away_win = pd.DataFrame(c.fetchall())\n",
    "        df_away_win.columns = [x[0] for x in c.description]\n",
    "        \n",
    "        #add total away win and total home win onto df away win\n",
    "        df_away_win['Total Win']= df_home_win['HomeWin']+df_away_win['AwayWin']\n",
    "        df_away_win.drop('AwayWin', axis =1, inplace = True) #drop away win df to make total win df\n",
    "        return df_away_win\n",
    "   \n",
    "    def win_by_team(self, teamname): #Total Goal for individual team\n",
    "        win_df = self.total_win()\n",
    "        return win_df.loc[win_df['Team'] == teamname]\n",
    "    \n",
    "    #same concept as total win and total goal.\n",
    "    def total_lose(self):\n",
    "        conn = sqlite3.Connection(self.database)\n",
    "        c = conn.cursor()\n",
    "        \n",
    "        #selecting total home loss\n",
    "        c.execute('''select m.HomeTeam as Team, count(FTR) as HomeLose\n",
    "            from Matches m\n",
    "            where Season = ''' + self.year +\n",
    "                    ''' and FTR = 'A'\n",
    "            group by Team\n",
    "            order by Team\n",
    "            ''')\n",
    "        df_home_lose = pd.DataFrame(c.fetchall())\n",
    "        df_home_lose.columns = [x[0] for x in c.description]\n",
    "        \n",
    "        #selecting total away loss\n",
    "        c.execute('''select m.AwayTeam as Team, count(FTR) as AwayLose\n",
    "            from Matches m\n",
    "            where Season = ''' + self.year +\n",
    "                    ''' and FTR = 'H'\n",
    "            group by Team\n",
    "            order by Team\n",
    "            ''')\n",
    "        df_away_lose = pd.DataFrame(c.fetchall())\n",
    "        df_away_lose.columns = [x[0] for x in c.description]\n",
    "        #however, not all team lost at home, therefore making a loop to check which team \n",
    "        #never lost at home and append this to a list.\n",
    "        listt = []\n",
    "        for i in df_away_lose['Team']:\n",
    "            if i in list(df_home_lose['Team']):\n",
    "                continue\n",
    "            else:\n",
    "                listt.append([i,0])\n",
    "        #making new dataframe to put list in\n",
    "        dff = pd.DataFrame(listt,columns = ['Team', 'HomeLose'])\n",
    "        #append above dataframe to df_home_lose to create full list of teams\n",
    "        df_home_lose = df_home_lose.append(dff)\n",
    "        df_home_lose.sort_values(by=['Team']) #sort value\n",
    "        list_homelose = list(df_home_lose['HomeLose']) #list out all homelose\n",
    "        for i in range(len(df_away_lose)): #loop to add homeloss to away loss to get total loss\n",
    "            df_away_lose['AwayLose'][i]+=list_homelose[i]\n",
    "        df_away_lose.rename(index=str, columns={\"AwayLose\": \"Total Loss\"}, inplace=True)\n",
    "        return df_away_lose\n",
    "    \n",
    "    def loss_by_team(self, teamname): #Total Goal for individual team\n",
    "        loss_df = self.total_lose()\n",
    "        return loss_df.loc[loss_df['Team'] == teamname]\n",
    "    \n",
    "    def name_list(self):\n",
    "        return list(self.total_lose()['Team'])\n"
   ]
  },
  {
   "cell_type": "code",
   "execution_count": 6,
   "metadata": {},
   "outputs": [],
   "source": [
    "g1 = Futball('database.sqlite', '2011') #assign instance"
   ]
  },
  {
   "cell_type": "code",
   "execution_count": 7,
   "metadata": {},
   "outputs": [
    {
     "data": {
      "text/html": [
       "<div>\n",
       "<style scoped>\n",
       "    .dataframe tbody tr th:only-of-type {\n",
       "        vertical-align: middle;\n",
       "    }\n",
       "\n",
       "    .dataframe tbody tr th {\n",
       "        vertical-align: top;\n",
       "    }\n",
       "\n",
       "    .dataframe thead th {\n",
       "        text-align: right;\n",
       "    }\n",
       "</style>\n",
       "<table border=\"1\" class=\"dataframe\">\n",
       "  <thead>\n",
       "    <tr style=\"text-align: right;\">\n",
       "      <th></th>\n",
       "      <th>Team</th>\n",
       "      <th>Total Goal</th>\n",
       "    </tr>\n",
       "  </thead>\n",
       "  <tbody>\n",
       "    <tr>\n",
       "      <th>0</th>\n",
       "      <td>Aachen</td>\n",
       "      <td>30</td>\n",
       "    </tr>\n",
       "    <tr>\n",
       "      <th>1</th>\n",
       "      <td>Arsenal</td>\n",
       "      <td>74</td>\n",
       "    </tr>\n",
       "    <tr>\n",
       "      <th>2</th>\n",
       "      <td>Aston Villa</td>\n",
       "      <td>37</td>\n",
       "    </tr>\n",
       "    <tr>\n",
       "      <th>3</th>\n",
       "      <td>Augsburg</td>\n",
       "      <td>36</td>\n",
       "    </tr>\n",
       "    <tr>\n",
       "      <th>4</th>\n",
       "      <td>Bayern Munich</td>\n",
       "      <td>77</td>\n",
       "    </tr>\n",
       "    <tr>\n",
       "      <th>5</th>\n",
       "      <td>Blackburn</td>\n",
       "      <td>48</td>\n",
       "    </tr>\n",
       "    <tr>\n",
       "      <th>6</th>\n",
       "      <td>Bochum</td>\n",
       "      <td>41</td>\n",
       "    </tr>\n",
       "    <tr>\n",
       "      <th>7</th>\n",
       "      <td>Bolton</td>\n",
       "      <td>46</td>\n",
       "    </tr>\n",
       "    <tr>\n",
       "      <th>8</th>\n",
       "      <td>Braunschweig</td>\n",
       "      <td>37</td>\n",
       "    </tr>\n",
       "    <tr>\n",
       "      <th>9</th>\n",
       "      <td>Chelsea</td>\n",
       "      <td>65</td>\n",
       "    </tr>\n",
       "    <tr>\n",
       "      <th>10</th>\n",
       "      <td>Cottbus</td>\n",
       "      <td>30</td>\n",
       "    </tr>\n",
       "    <tr>\n",
       "      <th>11</th>\n",
       "      <td>Dortmund</td>\n",
       "      <td>80</td>\n",
       "    </tr>\n",
       "    <tr>\n",
       "      <th>12</th>\n",
       "      <td>Dresden</td>\n",
       "      <td>50</td>\n",
       "    </tr>\n",
       "    <tr>\n",
       "      <th>13</th>\n",
       "      <td>Duisburg</td>\n",
       "      <td>42</td>\n",
       "    </tr>\n",
       "    <tr>\n",
       "      <th>14</th>\n",
       "      <td>Ein Frankfurt</td>\n",
       "      <td>76</td>\n",
       "    </tr>\n",
       "    <tr>\n",
       "      <th>15</th>\n",
       "      <td>Erzgebirge Aue</td>\n",
       "      <td>31</td>\n",
       "    </tr>\n",
       "    <tr>\n",
       "      <th>16</th>\n",
       "      <td>Everton</td>\n",
       "      <td>50</td>\n",
       "    </tr>\n",
       "    <tr>\n",
       "      <th>17</th>\n",
       "      <td>FC Koln</td>\n",
       "      <td>39</td>\n",
       "    </tr>\n",
       "    <tr>\n",
       "      <th>18</th>\n",
       "      <td>Fortuna Dusseldorf</td>\n",
       "      <td>64</td>\n",
       "    </tr>\n",
       "    <tr>\n",
       "      <th>19</th>\n",
       "      <td>Frankfurt FSV</td>\n",
       "      <td>43</td>\n",
       "    </tr>\n",
       "    <tr>\n",
       "      <th>20</th>\n",
       "      <td>Freiburg</td>\n",
       "      <td>45</td>\n",
       "    </tr>\n",
       "    <tr>\n",
       "      <th>21</th>\n",
       "      <td>Fulham</td>\n",
       "      <td>48</td>\n",
       "    </tr>\n",
       "    <tr>\n",
       "      <th>22</th>\n",
       "      <td>Greuther Furth</td>\n",
       "      <td>73</td>\n",
       "    </tr>\n",
       "    <tr>\n",
       "      <th>23</th>\n",
       "      <td>Hamburg</td>\n",
       "      <td>35</td>\n",
       "    </tr>\n",
       "    <tr>\n",
       "      <th>24</th>\n",
       "      <td>Hannover</td>\n",
       "      <td>41</td>\n",
       "    </tr>\n",
       "    <tr>\n",
       "      <th>25</th>\n",
       "      <td>Hansa Rostock</td>\n",
       "      <td>34</td>\n",
       "    </tr>\n",
       "    <tr>\n",
       "      <th>26</th>\n",
       "      <td>Hertha</td>\n",
       "      <td>38</td>\n",
       "    </tr>\n",
       "    <tr>\n",
       "      <th>27</th>\n",
       "      <td>Hoffenheim</td>\n",
       "      <td>41</td>\n",
       "    </tr>\n",
       "    <tr>\n",
       "      <th>28</th>\n",
       "      <td>Ingolstadt</td>\n",
       "      <td>43</td>\n",
       "    </tr>\n",
       "    <tr>\n",
       "      <th>29</th>\n",
       "      <td>Kaiserslautern</td>\n",
       "      <td>24</td>\n",
       "    </tr>\n",
       "    <tr>\n",
       "      <th>30</th>\n",
       "      <td>Karlsruhe</td>\n",
       "      <td>34</td>\n",
       "    </tr>\n",
       "    <tr>\n",
       "      <th>31</th>\n",
       "      <td>Leverkusen</td>\n",
       "      <td>52</td>\n",
       "    </tr>\n",
       "    <tr>\n",
       "      <th>32</th>\n",
       "      <td>Liverpool</td>\n",
       "      <td>47</td>\n",
       "    </tr>\n",
       "    <tr>\n",
       "      <th>33</th>\n",
       "      <td>M'gladbach</td>\n",
       "      <td>49</td>\n",
       "    </tr>\n",
       "    <tr>\n",
       "      <th>34</th>\n",
       "      <td>Mainz</td>\n",
       "      <td>47</td>\n",
       "    </tr>\n",
       "    <tr>\n",
       "      <th>35</th>\n",
       "      <td>Man City</td>\n",
       "      <td>93</td>\n",
       "    </tr>\n",
       "    <tr>\n",
       "      <th>36</th>\n",
       "      <td>Man United</td>\n",
       "      <td>89</td>\n",
       "    </tr>\n",
       "    <tr>\n",
       "      <th>37</th>\n",
       "      <td>Munich 1860</td>\n",
       "      <td>62</td>\n",
       "    </tr>\n",
       "    <tr>\n",
       "      <th>38</th>\n",
       "      <td>Newcastle</td>\n",
       "      <td>56</td>\n",
       "    </tr>\n",
       "    <tr>\n",
       "      <th>39</th>\n",
       "      <td>Norwich</td>\n",
       "      <td>52</td>\n",
       "    </tr>\n",
       "    <tr>\n",
       "      <th>40</th>\n",
       "      <td>Nurnberg</td>\n",
       "      <td>38</td>\n",
       "    </tr>\n",
       "    <tr>\n",
       "      <th>41</th>\n",
       "      <td>Paderborn</td>\n",
       "      <td>51</td>\n",
       "    </tr>\n",
       "    <tr>\n",
       "      <th>42</th>\n",
       "      <td>QPR</td>\n",
       "      <td>43</td>\n",
       "    </tr>\n",
       "    <tr>\n",
       "      <th>43</th>\n",
       "      <td>Schalke 04</td>\n",
       "      <td>74</td>\n",
       "    </tr>\n",
       "    <tr>\n",
       "      <th>44</th>\n",
       "      <td>St Pauli</td>\n",
       "      <td>59</td>\n",
       "    </tr>\n",
       "    <tr>\n",
       "      <th>45</th>\n",
       "      <td>Stoke</td>\n",
       "      <td>36</td>\n",
       "    </tr>\n",
       "    <tr>\n",
       "      <th>46</th>\n",
       "      <td>Stuttgart</td>\n",
       "      <td>63</td>\n",
       "    </tr>\n",
       "    <tr>\n",
       "      <th>47</th>\n",
       "      <td>Sunderland</td>\n",
       "      <td>45</td>\n",
       "    </tr>\n",
       "    <tr>\n",
       "      <th>48</th>\n",
       "      <td>Swansea</td>\n",
       "      <td>44</td>\n",
       "    </tr>\n",
       "    <tr>\n",
       "      <th>49</th>\n",
       "      <td>Tottenham</td>\n",
       "      <td>66</td>\n",
       "    </tr>\n",
       "    <tr>\n",
       "      <th>50</th>\n",
       "      <td>Union Berlin</td>\n",
       "      <td>55</td>\n",
       "    </tr>\n",
       "    <tr>\n",
       "      <th>51</th>\n",
       "      <td>Werder Bremen</td>\n",
       "      <td>49</td>\n",
       "    </tr>\n",
       "    <tr>\n",
       "      <th>52</th>\n",
       "      <td>West Brom</td>\n",
       "      <td>45</td>\n",
       "    </tr>\n",
       "    <tr>\n",
       "      <th>53</th>\n",
       "      <td>Wigan</td>\n",
       "      <td>42</td>\n",
       "    </tr>\n",
       "    <tr>\n",
       "      <th>54</th>\n",
       "      <td>Wolfsburg</td>\n",
       "      <td>47</td>\n",
       "    </tr>\n",
       "    <tr>\n",
       "      <th>55</th>\n",
       "      <td>Wolves</td>\n",
       "      <td>40</td>\n",
       "    </tr>\n",
       "  </tbody>\n",
       "</table>\n",
       "</div>"
      ],
      "text/plain": [
       "                  Team  Total Goal\n",
       "0               Aachen          30\n",
       "1              Arsenal          74\n",
       "2          Aston Villa          37\n",
       "3             Augsburg          36\n",
       "4        Bayern Munich          77\n",
       "5            Blackburn          48\n",
       "6               Bochum          41\n",
       "7               Bolton          46\n",
       "8         Braunschweig          37\n",
       "9              Chelsea          65\n",
       "10             Cottbus          30\n",
       "11            Dortmund          80\n",
       "12             Dresden          50\n",
       "13            Duisburg          42\n",
       "14       Ein Frankfurt          76\n",
       "15      Erzgebirge Aue          31\n",
       "16             Everton          50\n",
       "17             FC Koln          39\n",
       "18  Fortuna Dusseldorf          64\n",
       "19       Frankfurt FSV          43\n",
       "20            Freiburg          45\n",
       "21              Fulham          48\n",
       "22      Greuther Furth          73\n",
       "23             Hamburg          35\n",
       "24            Hannover          41\n",
       "25       Hansa Rostock          34\n",
       "26              Hertha          38\n",
       "27          Hoffenheim          41\n",
       "28          Ingolstadt          43\n",
       "29      Kaiserslautern          24\n",
       "30           Karlsruhe          34\n",
       "31          Leverkusen          52\n",
       "32           Liverpool          47\n",
       "33          M'gladbach          49\n",
       "34               Mainz          47\n",
       "35            Man City          93\n",
       "36          Man United          89\n",
       "37         Munich 1860          62\n",
       "38           Newcastle          56\n",
       "39             Norwich          52\n",
       "40            Nurnberg          38\n",
       "41           Paderborn          51\n",
       "42                 QPR          43\n",
       "43          Schalke 04          74\n",
       "44            St Pauli          59\n",
       "45               Stoke          36\n",
       "46           Stuttgart          63\n",
       "47          Sunderland          45\n",
       "48             Swansea          44\n",
       "49           Tottenham          66\n",
       "50        Union Berlin          55\n",
       "51       Werder Bremen          49\n",
       "52           West Brom          45\n",
       "53               Wigan          42\n",
       "54           Wolfsburg          47\n",
       "55              Wolves          40"
      ]
     },
     "execution_count": 7,
     "metadata": {},
     "output_type": "execute_result"
    }
   ],
   "source": [
    "g1.total_goal()"
   ]
  },
  {
   "cell_type": "code",
   "execution_count": 8,
   "metadata": {},
   "outputs": [
    {
     "data": {
      "text/html": [
       "<div>\n",
       "<style scoped>\n",
       "    .dataframe tbody tr th:only-of-type {\n",
       "        vertical-align: middle;\n",
       "    }\n",
       "\n",
       "    .dataframe tbody tr th {\n",
       "        vertical-align: top;\n",
       "    }\n",
       "\n",
       "    .dataframe thead th {\n",
       "        text-align: right;\n",
       "    }\n",
       "</style>\n",
       "<table border=\"1\" class=\"dataframe\">\n",
       "  <thead>\n",
       "    <tr style=\"text-align: right;\">\n",
       "      <th></th>\n",
       "      <th>Team</th>\n",
       "      <th>Total Win</th>\n",
       "    </tr>\n",
       "  </thead>\n",
       "  <tbody>\n",
       "    <tr>\n",
       "      <th>0</th>\n",
       "      <td>Aachen</td>\n",
       "      <td>6</td>\n",
       "    </tr>\n",
       "    <tr>\n",
       "      <th>1</th>\n",
       "      <td>Arsenal</td>\n",
       "      <td>21</td>\n",
       "    </tr>\n",
       "    <tr>\n",
       "      <th>2</th>\n",
       "      <td>Aston Villa</td>\n",
       "      <td>7</td>\n",
       "    </tr>\n",
       "    <tr>\n",
       "      <th>3</th>\n",
       "      <td>Augsburg</td>\n",
       "      <td>8</td>\n",
       "    </tr>\n",
       "    <tr>\n",
       "      <th>4</th>\n",
       "      <td>Bayern Munich</td>\n",
       "      <td>23</td>\n",
       "    </tr>\n",
       "    <tr>\n",
       "      <th>5</th>\n",
       "      <td>Blackburn</td>\n",
       "      <td>8</td>\n",
       "    </tr>\n",
       "    <tr>\n",
       "      <th>6</th>\n",
       "      <td>Bochum</td>\n",
       "      <td>10</td>\n",
       "    </tr>\n",
       "    <tr>\n",
       "      <th>7</th>\n",
       "      <td>Bolton</td>\n",
       "      <td>10</td>\n",
       "    </tr>\n",
       "    <tr>\n",
       "      <th>8</th>\n",
       "      <td>Braunschweig</td>\n",
       "      <td>10</td>\n",
       "    </tr>\n",
       "    <tr>\n",
       "      <th>9</th>\n",
       "      <td>Chelsea</td>\n",
       "      <td>18</td>\n",
       "    </tr>\n",
       "    <tr>\n",
       "      <th>10</th>\n",
       "      <td>Cottbus</td>\n",
       "      <td>8</td>\n",
       "    </tr>\n",
       "    <tr>\n",
       "      <th>11</th>\n",
       "      <td>Dortmund</td>\n",
       "      <td>25</td>\n",
       "    </tr>\n",
       "    <tr>\n",
       "      <th>12</th>\n",
       "      <td>Dresden</td>\n",
       "      <td>12</td>\n",
       "    </tr>\n",
       "    <tr>\n",
       "      <th>13</th>\n",
       "      <td>Duisburg</td>\n",
       "      <td>10</td>\n",
       "    </tr>\n",
       "    <tr>\n",
       "      <th>14</th>\n",
       "      <td>Ein Frankfurt</td>\n",
       "      <td>20</td>\n",
       "    </tr>\n",
       "    <tr>\n",
       "      <th>15</th>\n",
       "      <td>Erzgebirge Aue</td>\n",
       "      <td>8</td>\n",
       "    </tr>\n",
       "    <tr>\n",
       "      <th>16</th>\n",
       "      <td>Everton</td>\n",
       "      <td>15</td>\n",
       "    </tr>\n",
       "    <tr>\n",
       "      <th>17</th>\n",
       "      <td>FC Koln</td>\n",
       "      <td>8</td>\n",
       "    </tr>\n",
       "    <tr>\n",
       "      <th>18</th>\n",
       "      <td>Fortuna Dusseldorf</td>\n",
       "      <td>16</td>\n",
       "    </tr>\n",
       "    <tr>\n",
       "      <th>19</th>\n",
       "      <td>Frankfurt FSV</td>\n",
       "      <td>7</td>\n",
       "    </tr>\n",
       "    <tr>\n",
       "      <th>20</th>\n",
       "      <td>Freiburg</td>\n",
       "      <td>10</td>\n",
       "    </tr>\n",
       "    <tr>\n",
       "      <th>21</th>\n",
       "      <td>Fulham</td>\n",
       "      <td>14</td>\n",
       "    </tr>\n",
       "    <tr>\n",
       "      <th>22</th>\n",
       "      <td>Greuther Furth</td>\n",
       "      <td>20</td>\n",
       "    </tr>\n",
       "    <tr>\n",
       "      <th>23</th>\n",
       "      <td>Hamburg</td>\n",
       "      <td>8</td>\n",
       "    </tr>\n",
       "    <tr>\n",
       "      <th>24</th>\n",
       "      <td>Hannover</td>\n",
       "      <td>12</td>\n",
       "    </tr>\n",
       "    <tr>\n",
       "      <th>25</th>\n",
       "      <td>Hansa Rostock</td>\n",
       "      <td>5</td>\n",
       "    </tr>\n",
       "    <tr>\n",
       "      <th>26</th>\n",
       "      <td>Hertha</td>\n",
       "      <td>7</td>\n",
       "    </tr>\n",
       "    <tr>\n",
       "      <th>27</th>\n",
       "      <td>Hoffenheim</td>\n",
       "      <td>10</td>\n",
       "    </tr>\n",
       "    <tr>\n",
       "      <th>28</th>\n",
       "      <td>Ingolstadt</td>\n",
       "      <td>8</td>\n",
       "    </tr>\n",
       "    <tr>\n",
       "      <th>29</th>\n",
       "      <td>Kaiserslautern</td>\n",
       "      <td>4</td>\n",
       "    </tr>\n",
       "    <tr>\n",
       "      <th>30</th>\n",
       "      <td>Karlsruhe</td>\n",
       "      <td>9</td>\n",
       "    </tr>\n",
       "    <tr>\n",
       "      <th>31</th>\n",
       "      <td>Leverkusen</td>\n",
       "      <td>15</td>\n",
       "    </tr>\n",
       "    <tr>\n",
       "      <th>32</th>\n",
       "      <td>Liverpool</td>\n",
       "      <td>14</td>\n",
       "    </tr>\n",
       "    <tr>\n",
       "      <th>33</th>\n",
       "      <td>M'gladbach</td>\n",
       "      <td>17</td>\n",
       "    </tr>\n",
       "    <tr>\n",
       "      <th>34</th>\n",
       "      <td>Mainz</td>\n",
       "      <td>9</td>\n",
       "    </tr>\n",
       "    <tr>\n",
       "      <th>35</th>\n",
       "      <td>Man City</td>\n",
       "      <td>28</td>\n",
       "    </tr>\n",
       "    <tr>\n",
       "      <th>36</th>\n",
       "      <td>Man United</td>\n",
       "      <td>28</td>\n",
       "    </tr>\n",
       "    <tr>\n",
       "      <th>37</th>\n",
       "      <td>Munich 1860</td>\n",
       "      <td>17</td>\n",
       "    </tr>\n",
       "    <tr>\n",
       "      <th>38</th>\n",
       "      <td>Newcastle</td>\n",
       "      <td>19</td>\n",
       "    </tr>\n",
       "    <tr>\n",
       "      <th>39</th>\n",
       "      <td>Norwich</td>\n",
       "      <td>12</td>\n",
       "    </tr>\n",
       "    <tr>\n",
       "      <th>40</th>\n",
       "      <td>Nurnberg</td>\n",
       "      <td>12</td>\n",
       "    </tr>\n",
       "    <tr>\n",
       "      <th>41</th>\n",
       "      <td>Paderborn</td>\n",
       "      <td>17</td>\n",
       "    </tr>\n",
       "    <tr>\n",
       "      <th>42</th>\n",
       "      <td>QPR</td>\n",
       "      <td>10</td>\n",
       "    </tr>\n",
       "    <tr>\n",
       "      <th>43</th>\n",
       "      <td>Schalke 04</td>\n",
       "      <td>20</td>\n",
       "    </tr>\n",
       "    <tr>\n",
       "      <th>44</th>\n",
       "      <td>St Pauli</td>\n",
       "      <td>18</td>\n",
       "    </tr>\n",
       "    <tr>\n",
       "      <th>45</th>\n",
       "      <td>Stoke</td>\n",
       "      <td>11</td>\n",
       "    </tr>\n",
       "    <tr>\n",
       "      <th>46</th>\n",
       "      <td>Stuttgart</td>\n",
       "      <td>15</td>\n",
       "    </tr>\n",
       "    <tr>\n",
       "      <th>47</th>\n",
       "      <td>Sunderland</td>\n",
       "      <td>11</td>\n",
       "    </tr>\n",
       "    <tr>\n",
       "      <th>48</th>\n",
       "      <td>Swansea</td>\n",
       "      <td>12</td>\n",
       "    </tr>\n",
       "    <tr>\n",
       "      <th>49</th>\n",
       "      <td>Tottenham</td>\n",
       "      <td>20</td>\n",
       "    </tr>\n",
       "    <tr>\n",
       "      <th>50</th>\n",
       "      <td>Union Berlin</td>\n",
       "      <td>14</td>\n",
       "    </tr>\n",
       "    <tr>\n",
       "      <th>51</th>\n",
       "      <td>Werder Bremen</td>\n",
       "      <td>11</td>\n",
       "    </tr>\n",
       "    <tr>\n",
       "      <th>52</th>\n",
       "      <td>West Brom</td>\n",
       "      <td>13</td>\n",
       "    </tr>\n",
       "    <tr>\n",
       "      <th>53</th>\n",
       "      <td>Wigan</td>\n",
       "      <td>11</td>\n",
       "    </tr>\n",
       "    <tr>\n",
       "      <th>54</th>\n",
       "      <td>Wolfsburg</td>\n",
       "      <td>13</td>\n",
       "    </tr>\n",
       "    <tr>\n",
       "      <th>55</th>\n",
       "      <td>Wolves</td>\n",
       "      <td>5</td>\n",
       "    </tr>\n",
       "  </tbody>\n",
       "</table>\n",
       "</div>"
      ],
      "text/plain": [
       "                  Team  Total Win\n",
       "0               Aachen          6\n",
       "1              Arsenal         21\n",
       "2          Aston Villa          7\n",
       "3             Augsburg          8\n",
       "4        Bayern Munich         23\n",
       "5            Blackburn          8\n",
       "6               Bochum         10\n",
       "7               Bolton         10\n",
       "8         Braunschweig         10\n",
       "9              Chelsea         18\n",
       "10             Cottbus          8\n",
       "11            Dortmund         25\n",
       "12             Dresden         12\n",
       "13            Duisburg         10\n",
       "14       Ein Frankfurt         20\n",
       "15      Erzgebirge Aue          8\n",
       "16             Everton         15\n",
       "17             FC Koln          8\n",
       "18  Fortuna Dusseldorf         16\n",
       "19       Frankfurt FSV          7\n",
       "20            Freiburg         10\n",
       "21              Fulham         14\n",
       "22      Greuther Furth         20\n",
       "23             Hamburg          8\n",
       "24            Hannover         12\n",
       "25       Hansa Rostock          5\n",
       "26              Hertha          7\n",
       "27          Hoffenheim         10\n",
       "28          Ingolstadt          8\n",
       "29      Kaiserslautern          4\n",
       "30           Karlsruhe          9\n",
       "31          Leverkusen         15\n",
       "32           Liverpool         14\n",
       "33          M'gladbach         17\n",
       "34               Mainz          9\n",
       "35            Man City         28\n",
       "36          Man United         28\n",
       "37         Munich 1860         17\n",
       "38           Newcastle         19\n",
       "39             Norwich         12\n",
       "40            Nurnberg         12\n",
       "41           Paderborn         17\n",
       "42                 QPR         10\n",
       "43          Schalke 04         20\n",
       "44            St Pauli         18\n",
       "45               Stoke         11\n",
       "46           Stuttgart         15\n",
       "47          Sunderland         11\n",
       "48             Swansea         12\n",
       "49           Tottenham         20\n",
       "50        Union Berlin         14\n",
       "51       Werder Bremen         11\n",
       "52           West Brom         13\n",
       "53               Wigan         11\n",
       "54           Wolfsburg         13\n",
       "55              Wolves          5"
      ]
     },
     "execution_count": 8,
     "metadata": {},
     "output_type": "execute_result"
    }
   ],
   "source": [
    "g1.total_win()"
   ]
  },
  {
   "cell_type": "code",
   "execution_count": 9,
   "metadata": {},
   "outputs": [],
   "source": [
    "namelist = g1.name_list() #get namelist"
   ]
  },
  {
   "cell_type": "code",
   "execution_count": 10,
   "metadata": {},
   "outputs": [
    {
     "data": {
      "text/plain": [
       "['Aachen',\n",
       " 'Arsenal',\n",
       " 'Aston Villa',\n",
       " 'Augsburg',\n",
       " 'Bayern Munich',\n",
       " 'Blackburn',\n",
       " 'Bochum',\n",
       " 'Bolton',\n",
       " 'Braunschweig',\n",
       " 'Chelsea',\n",
       " 'Cottbus',\n",
       " 'Dortmund',\n",
       " 'Dresden',\n",
       " 'Duisburg',\n",
       " 'Ein Frankfurt',\n",
       " 'Erzgebirge Aue',\n",
       " 'Everton',\n",
       " 'FC Koln',\n",
       " 'Fortuna Dusseldorf',\n",
       " 'Frankfurt FSV',\n",
       " 'Freiburg',\n",
       " 'Fulham',\n",
       " 'Greuther Furth',\n",
       " 'Hamburg',\n",
       " 'Hannover',\n",
       " 'Hansa Rostock',\n",
       " 'Hertha',\n",
       " 'Hoffenheim',\n",
       " 'Ingolstadt',\n",
       " 'Kaiserslautern',\n",
       " 'Karlsruhe',\n",
       " 'Leverkusen',\n",
       " 'Liverpool',\n",
       " \"M'gladbach\",\n",
       " 'Mainz',\n",
       " 'Man City',\n",
       " 'Man United',\n",
       " 'Munich 1860',\n",
       " 'Newcastle',\n",
       " 'Norwich',\n",
       " 'Nurnberg',\n",
       " 'Paderborn',\n",
       " 'QPR',\n",
       " 'Schalke 04',\n",
       " 'St Pauli',\n",
       " 'Stoke',\n",
       " 'Stuttgart',\n",
       " 'Sunderland',\n",
       " 'Swansea',\n",
       " 'Tottenham',\n",
       " 'Union Berlin',\n",
       " 'Werder Bremen',\n",
       " 'West Brom',\n",
       " 'Wigan',\n",
       " 'Wolfsburg',\n",
       " 'Wolves']"
      ]
     },
     "execution_count": 10,
     "metadata": {},
     "output_type": "execute_result"
    }
   ],
   "source": [
    "namelist"
   ]
  },
  {
   "cell_type": "code",
   "execution_count": 11,
   "metadata": {},
   "outputs": [
    {
     "data": {
      "text/plain": [
       "0     15\n",
       "1     10\n",
       "2     14\n",
       "3     12\n",
       "4      7\n",
       "5     23\n",
       "6     17\n",
       "7     22\n",
       "8      9\n",
       "9     10\n",
       "10    15\n",
       "11     3\n",
       "12    13\n",
       "13    15\n",
       "14     6\n",
       "15    15\n",
       "16    12\n",
       "17    20\n",
       "18     4\n",
       "19    13\n",
       "20    14\n",
       "21    14\n",
       "22     4\n",
       "23    14\n",
       "24    17\n",
       "25    20\n",
       "26    11\n",
       "27    12\n",
       "28    20\n",
       "29    15\n",
       "30    18\n",
       "31     9\n",
       "32    11\n",
       "33    14\n",
       "34     8\n",
       "35    10\n",
       "36     6\n",
       "37    12\n",
       "38    15\n",
       "39    11\n",
       "40    16\n",
       "41     8\n",
       "42    16\n",
       "43    11\n",
       "44    10\n",
       "45    16\n",
       "46    11\n",
       "47    13\n",
       "48    15\n",
       "49    11\n",
       "50    20\n",
       "51    16\n",
       "52    12\n",
       "53    23\n",
       "54    11\n",
       "55    10\n",
       "Name: Total Loss, dtype: int64"
      ]
     },
     "execution_count": 11,
     "metadata": {},
     "output_type": "execute_result"
    }
   ],
   "source": [
    "loss = g1.total_lose()['Total Loss'] #get loss list\n",
    "loss"
   ]
  },
  {
   "cell_type": "code",
   "execution_count": 12,
   "metadata": {},
   "outputs": [
    {
     "data": {
      "text/plain": [
       "0      6\n",
       "1     21\n",
       "2      7\n",
       "3      8\n",
       "4     23\n",
       "5      8\n",
       "6     10\n",
       "7     10\n",
       "8     10\n",
       "9     18\n",
       "10     8\n",
       "11    25\n",
       "12    12\n",
       "13    10\n",
       "14    20\n",
       "15     8\n",
       "16    15\n",
       "17     8\n",
       "18    16\n",
       "19     7\n",
       "20    10\n",
       "21    14\n",
       "22    20\n",
       "23     8\n",
       "24    12\n",
       "25     5\n",
       "26     7\n",
       "27    10\n",
       "28     8\n",
       "29     4\n",
       "30     9\n",
       "31    15\n",
       "32    14\n",
       "33    17\n",
       "34     9\n",
       "35    28\n",
       "36    28\n",
       "37    17\n",
       "38    19\n",
       "39    12\n",
       "40    12\n",
       "41    17\n",
       "42    10\n",
       "43    20\n",
       "44    18\n",
       "45    11\n",
       "46    15\n",
       "47    11\n",
       "48    12\n",
       "49    20\n",
       "50    14\n",
       "51    11\n",
       "52    13\n",
       "53    11\n",
       "54    13\n",
       "55     5\n",
       "Name: Total Win, dtype: int64"
      ]
     },
     "execution_count": 12,
     "metadata": {},
     "output_type": "execute_result"
    }
   ],
   "source": [
    "win = g1.total_win()['Total Win'] #get win list\n",
    "win"
   ]
  },
  {
   "cell_type": "code",
   "execution_count": 13,
   "metadata": {},
   "outputs": [
    {
     "data": {
      "text/plain": [
       "0     30\n",
       "1     74\n",
       "2     37\n",
       "3     36\n",
       "4     77\n",
       "5     48\n",
       "6     41\n",
       "7     46\n",
       "8     37\n",
       "9     65\n",
       "10    30\n",
       "11    80\n",
       "12    50\n",
       "13    42\n",
       "14    76\n",
       "15    31\n",
       "16    50\n",
       "17    39\n",
       "18    64\n",
       "19    43\n",
       "20    45\n",
       "21    48\n",
       "22    73\n",
       "23    35\n",
       "24    41\n",
       "25    34\n",
       "26    38\n",
       "27    41\n",
       "28    43\n",
       "29    24\n",
       "30    34\n",
       "31    52\n",
       "32    47\n",
       "33    49\n",
       "34    47\n",
       "35    93\n",
       "36    89\n",
       "37    62\n",
       "38    56\n",
       "39    52\n",
       "40    38\n",
       "41    51\n",
       "42    43\n",
       "43    74\n",
       "44    59\n",
       "45    36\n",
       "46    63\n",
       "47    45\n",
       "48    44\n",
       "49    66\n",
       "50    55\n",
       "51    49\n",
       "52    45\n",
       "53    42\n",
       "54    47\n",
       "55    40\n",
       "Name: Total Goal, dtype: int64"
      ]
     },
     "execution_count": 13,
     "metadata": {},
     "output_type": "execute_result"
    }
   ],
   "source": [
    "goal = g1.total_goal()['Total Goal'] #get total goal list\n",
    "goal"
   ]
  },
  {
   "cell_type": "markdown",
   "metadata": {},
   "source": [
    "### Creating Class to access Dark Sky API"
   ]
  },
  {
   "cell_type": "code",
   "execution_count": 14,
   "metadata": {
    "scrolled": true
   },
   "outputs": [
    {
     "data": {
      "text/html": [
       "<div>\n",
       "<style scoped>\n",
       "    .dataframe tbody tr th:only-of-type {\n",
       "        vertical-align: middle;\n",
       "    }\n",
       "\n",
       "    .dataframe tbody tr th {\n",
       "        vertical-align: top;\n",
       "    }\n",
       "\n",
       "    .dataframe thead th {\n",
       "        text-align: right;\n",
       "    }\n",
       "</style>\n",
       "<table border=\"1\" class=\"dataframe\">\n",
       "  <thead>\n",
       "    <tr style=\"text-align: right;\">\n",
       "      <th></th>\n",
       "      <th>index</th>\n",
       "      <th>Match_ID</th>\n",
       "      <th>Date</th>\n",
       "      <th>AwayTeam</th>\n",
       "      <th>HomeTeam</th>\n",
       "      <th>FTR</th>\n",
       "      <th>rain</th>\n",
       "    </tr>\n",
       "  </thead>\n",
       "  <tbody>\n",
       "    <tr>\n",
       "      <th>0</th>\n",
       "      <td>8</td>\n",
       "      <td>1100</td>\n",
       "      <td>2011-09-18</td>\n",
       "      <td>Bayern Munich</td>\n",
       "      <td>Schalke 04</td>\n",
       "      <td>A</td>\n",
       "      <td>True</td>\n",
       "    </tr>\n",
       "    <tr>\n",
       "      <th>1</th>\n",
       "      <td>18</td>\n",
       "      <td>1110</td>\n",
       "      <td>2011-12-17</td>\n",
       "      <td>Dortmund</td>\n",
       "      <td>Freiburg</td>\n",
       "      <td>A</td>\n",
       "      <td>True</td>\n",
       "    </tr>\n",
       "    <tr>\n",
       "      <th>2</th>\n",
       "      <td>26</td>\n",
       "      <td>1118</td>\n",
       "      <td>2011-09-18</td>\n",
       "      <td>Dortmund</td>\n",
       "      <td>Hannover</td>\n",
       "      <td>H</td>\n",
       "      <td>True</td>\n",
       "    </tr>\n",
       "    <tr>\n",
       "      <th>3</th>\n",
       "      <td>43</td>\n",
       "      <td>1135</td>\n",
       "      <td>2012-05-06</td>\n",
       "      <td>Dresden</td>\n",
       "      <td>Frankfurt FSV</td>\n",
       "      <td>D</td>\n",
       "      <td>True</td>\n",
       "    </tr>\n",
       "    <tr>\n",
       "      <th>4</th>\n",
       "      <td>66</td>\n",
       "      <td>1158</td>\n",
       "      <td>2012-05-06</td>\n",
       "      <td>Duisburg</td>\n",
       "      <td>Fortuna Dusseldorf</td>\n",
       "      <td>D</td>\n",
       "      <td>True</td>\n",
       "    </tr>\n",
       "    <tr>\n",
       "      <th>5</th>\n",
       "      <td>76</td>\n",
       "      <td>1168</td>\n",
       "      <td>2012-05-06</td>\n",
       "      <td>Ein Frankfurt</td>\n",
       "      <td>Karlsruhe</td>\n",
       "      <td>H</td>\n",
       "      <td>True</td>\n",
       "    </tr>\n",
       "    <tr>\n",
       "      <th>6</th>\n",
       "      <td>127</td>\n",
       "      <td>1219</td>\n",
       "      <td>2011-08-05</td>\n",
       "      <td>Hamburg</td>\n",
       "      <td>Dortmund</td>\n",
       "      <td>H</td>\n",
       "      <td>True</td>\n",
       "    </tr>\n",
       "    <tr>\n",
       "      <th>7</th>\n",
       "      <td>157</td>\n",
       "      <td>1249</td>\n",
       "      <td>2011-12-09</td>\n",
       "      <td>Karlsruhe</td>\n",
       "      <td>Duisburg</td>\n",
       "      <td>H</td>\n",
       "      <td>True</td>\n",
       "    </tr>\n",
       "    <tr>\n",
       "      <th>8</th>\n",
       "      <td>192</td>\n",
       "      <td>1284</td>\n",
       "      <td>2011-12-17</td>\n",
       "      <td>Nurnberg</td>\n",
       "      <td>Leverkusen</td>\n",
       "      <td>A</td>\n",
       "      <td>True</td>\n",
       "    </tr>\n",
       "    <tr>\n",
       "      <th>9</th>\n",
       "      <td>211</td>\n",
       "      <td>1303</td>\n",
       "      <td>2011-12-09</td>\n",
       "      <td>Schalke 04</td>\n",
       "      <td>Hertha</td>\n",
       "      <td>A</td>\n",
       "      <td>True</td>\n",
       "    </tr>\n",
       "    <tr>\n",
       "      <th>10</th>\n",
       "      <td>221</td>\n",
       "      <td>1313</td>\n",
       "      <td>2011-12-17</td>\n",
       "      <td>Stuttgart</td>\n",
       "      <td>Wolfsburg</td>\n",
       "      <td>H</td>\n",
       "      <td>True</td>\n",
       "    </tr>\n",
       "    <tr>\n",
       "      <th>11</th>\n",
       "      <td>254</td>\n",
       "      <td>1346</td>\n",
       "      <td>2011-12-17</td>\n",
       "      <td>Werder Bremen</td>\n",
       "      <td>Schalke 04</td>\n",
       "      <td>H</td>\n",
       "      <td>True</td>\n",
       "    </tr>\n",
       "    <tr>\n",
       "      <th>12</th>\n",
       "      <td>259</td>\n",
       "      <td>1351</td>\n",
       "      <td>2011-12-17</td>\n",
       "      <td>Bochum</td>\n",
       "      <td>Frankfurt FSV</td>\n",
       "      <td>A</td>\n",
       "      <td>True</td>\n",
       "    </tr>\n",
       "    <tr>\n",
       "      <th>13</th>\n",
       "      <td>264</td>\n",
       "      <td>1356</td>\n",
       "      <td>2012-05-06</td>\n",
       "      <td>Bochum</td>\n",
       "      <td>Erzgebirge Aue</td>\n",
       "      <td>H</td>\n",
       "      <td>True</td>\n",
       "    </tr>\n",
       "    <tr>\n",
       "      <th>14</th>\n",
       "      <td>295</td>\n",
       "      <td>1387</td>\n",
       "      <td>2011-12-09</td>\n",
       "      <td>Hansa Rostock</td>\n",
       "      <td>Paderborn</td>\n",
       "      <td>H</td>\n",
       "      <td>True</td>\n",
       "    </tr>\n",
       "    <tr>\n",
       "      <th>15</th>\n",
       "      <td>322</td>\n",
       "      <td>1414</td>\n",
       "      <td>2011-12-17</td>\n",
       "      <td>Hertha</td>\n",
       "      <td>Hoffenheim</td>\n",
       "      <td>D</td>\n",
       "      <td>True</td>\n",
       "    </tr>\n",
       "    <tr>\n",
       "      <th>16</th>\n",
       "      <td>349</td>\n",
       "      <td>1441</td>\n",
       "      <td>2011-12-17</td>\n",
       "      <td>Munich 1860</td>\n",
       "      <td>Karlsruhe</td>\n",
       "      <td>A</td>\n",
       "      <td>True</td>\n",
       "    </tr>\n",
       "    <tr>\n",
       "      <th>17</th>\n",
       "      <td>436</td>\n",
       "      <td>1528</td>\n",
       "      <td>2012-05-06</td>\n",
       "      <td>Greuther Furth</td>\n",
       "      <td>Hansa Rostock</td>\n",
       "      <td>D</td>\n",
       "      <td>True</td>\n",
       "    </tr>\n",
       "    <tr>\n",
       "      <th>18</th>\n",
       "      <td>437</td>\n",
       "      <td>1529</td>\n",
       "      <td>2011-09-18</td>\n",
       "      <td>Greuther Furth</td>\n",
       "      <td>Aachen</td>\n",
       "      <td>D</td>\n",
       "      <td>True</td>\n",
       "    </tr>\n",
       "    <tr>\n",
       "      <th>19</th>\n",
       "      <td>448</td>\n",
       "      <td>1540</td>\n",
       "      <td>2012-05-06</td>\n",
       "      <td>Aachen</td>\n",
       "      <td>Munich 1860</td>\n",
       "      <td>A</td>\n",
       "      <td>True</td>\n",
       "    </tr>\n",
       "    <tr>\n",
       "      <th>20</th>\n",
       "      <td>453</td>\n",
       "      <td>1545</td>\n",
       "      <td>2011-08-05</td>\n",
       "      <td>Aachen</td>\n",
       "      <td>St Pauli</td>\n",
       "      <td>H</td>\n",
       "      <td>True</td>\n",
       "    </tr>\n",
       "    <tr>\n",
       "      <th>21</th>\n",
       "      <td>460</td>\n",
       "      <td>1552</td>\n",
       "      <td>2012-05-06</td>\n",
       "      <td>Union Berlin</td>\n",
       "      <td>Cottbus</td>\n",
       "      <td>H</td>\n",
       "      <td>True</td>\n",
       "    </tr>\n",
       "    <tr>\n",
       "      <th>22</th>\n",
       "      <td>486</td>\n",
       "      <td>1578</td>\n",
       "      <td>2011-12-09</td>\n",
       "      <td>Braunschweig</td>\n",
       "      <td>Munich 1860</td>\n",
       "      <td>H</td>\n",
       "      <td>True</td>\n",
       "    </tr>\n",
       "    <tr>\n",
       "      <th>23</th>\n",
       "      <td>517</td>\n",
       "      <td>1609</td>\n",
       "      <td>2011-09-18</td>\n",
       "      <td>Paderborn</td>\n",
       "      <td>Bochum</td>\n",
       "      <td>A</td>\n",
       "      <td>True</td>\n",
       "    </tr>\n",
       "    <tr>\n",
       "      <th>24</th>\n",
       "      <td>518</td>\n",
       "      <td>1610</td>\n",
       "      <td>2012-05-06</td>\n",
       "      <td>Paderborn</td>\n",
       "      <td>St Pauli</td>\n",
       "      <td>H</td>\n",
       "      <td>True</td>\n",
       "    </tr>\n",
       "    <tr>\n",
       "      <th>25</th>\n",
       "      <td>521</td>\n",
       "      <td>1613</td>\n",
       "      <td>2011-08-05</td>\n",
       "      <td>Paderborn</td>\n",
       "      <td>Union Berlin</td>\n",
       "      <td>H</td>\n",
       "      <td>True</td>\n",
       "    </tr>\n",
       "    <tr>\n",
       "      <th>26</th>\n",
       "      <td>530</td>\n",
       "      <td>1622</td>\n",
       "      <td>2011-12-17</td>\n",
       "      <td>Augsburg</td>\n",
       "      <td>Hamburg</td>\n",
       "      <td>D</td>\n",
       "      <td>True</td>\n",
       "    </tr>\n",
       "    <tr>\n",
       "      <th>27</th>\n",
       "      <td>562</td>\n",
       "      <td>1654</td>\n",
       "      <td>2011-09-18</td>\n",
       "      <td>Frankfurt FSV</td>\n",
       "      <td>Munich 1860</td>\n",
       "      <td>H</td>\n",
       "      <td>True</td>\n",
       "    </tr>\n",
       "    <tr>\n",
       "      <th>28</th>\n",
       "      <td>591</td>\n",
       "      <td>1683</td>\n",
       "      <td>2012-05-06</td>\n",
       "      <td>Ingolstadt</td>\n",
       "      <td>Braunschweig</td>\n",
       "      <td>H</td>\n",
       "      <td>True</td>\n",
       "    </tr>\n",
       "    <tr>\n",
       "      <th>29</th>\n",
       "      <td>592</td>\n",
       "      <td>1684</td>\n",
       "      <td>2011-08-05</td>\n",
       "      <td>Ingolstadt</td>\n",
       "      <td>Fortuna Dusseldorf</td>\n",
       "      <td>H</td>\n",
       "      <td>True</td>\n",
       "    </tr>\n",
       "    <tr>\n",
       "      <th>30</th>\n",
       "      <td>657</td>\n",
       "      <td>44540</td>\n",
       "      <td>2011-09-18</td>\n",
       "      <td>Man City</td>\n",
       "      <td>Fulham</td>\n",
       "      <td>D</td>\n",
       "      <td>True</td>\n",
       "    </tr>\n",
       "    <tr>\n",
       "      <th>31</th>\n",
       "      <td>658</td>\n",
       "      <td>44541</td>\n",
       "      <td>2011-09-18</td>\n",
       "      <td>Chelsea</td>\n",
       "      <td>Man United</td>\n",
       "      <td>H</td>\n",
       "      <td>True</td>\n",
       "    </tr>\n",
       "    <tr>\n",
       "      <th>32</th>\n",
       "      <td>659</td>\n",
       "      <td>44542</td>\n",
       "      <td>2011-09-18</td>\n",
       "      <td>Stoke</td>\n",
       "      <td>Sunderland</td>\n",
       "      <td>H</td>\n",
       "      <td>True</td>\n",
       "    </tr>\n",
       "    <tr>\n",
       "      <th>33</th>\n",
       "      <td>660</td>\n",
       "      <td>44543</td>\n",
       "      <td>2011-09-18</td>\n",
       "      <td>Liverpool</td>\n",
       "      <td>Tottenham</td>\n",
       "      <td>H</td>\n",
       "      <td>True</td>\n",
       "    </tr>\n",
       "    <tr>\n",
       "      <th>34</th>\n",
       "      <td>761</td>\n",
       "      <td>44644</td>\n",
       "      <td>2011-12-17</td>\n",
       "      <td>West Brom</td>\n",
       "      <td>Blackburn</td>\n",
       "      <td>A</td>\n",
       "      <td>True</td>\n",
       "    </tr>\n",
       "    <tr>\n",
       "      <th>35</th>\n",
       "      <td>762</td>\n",
       "      <td>44645</td>\n",
       "      <td>2011-12-17</td>\n",
       "      <td>Norwich</td>\n",
       "      <td>Everton</td>\n",
       "      <td>D</td>\n",
       "      <td>True</td>\n",
       "    </tr>\n",
       "    <tr>\n",
       "      <th>36</th>\n",
       "      <td>763</td>\n",
       "      <td>44646</td>\n",
       "      <td>2011-12-17</td>\n",
       "      <td>Bolton</td>\n",
       "      <td>Fulham</td>\n",
       "      <td>H</td>\n",
       "      <td>True</td>\n",
       "    </tr>\n",
       "    <tr>\n",
       "      <th>37</th>\n",
       "      <td>764</td>\n",
       "      <td>44647</td>\n",
       "      <td>2011-12-17</td>\n",
       "      <td>Swansea</td>\n",
       "      <td>Newcastle</td>\n",
       "      <td>D</td>\n",
       "      <td>True</td>\n",
       "    </tr>\n",
       "    <tr>\n",
       "      <th>38</th>\n",
       "      <td>765</td>\n",
       "      <td>44648</td>\n",
       "      <td>2011-12-17</td>\n",
       "      <td>Chelsea</td>\n",
       "      <td>Wigan</td>\n",
       "      <td>D</td>\n",
       "      <td>True</td>\n",
       "    </tr>\n",
       "    <tr>\n",
       "      <th>39</th>\n",
       "      <td>766</td>\n",
       "      <td>44649</td>\n",
       "      <td>2011-12-17</td>\n",
       "      <td>Stoke</td>\n",
       "      <td>Wolves</td>\n",
       "      <td>A</td>\n",
       "      <td>True</td>\n",
       "    </tr>\n",
       "    <tr>\n",
       "      <th>40</th>\n",
       "      <td>973</td>\n",
       "      <td>44856</td>\n",
       "      <td>2012-05-06</td>\n",
       "      <td>Tottenham</td>\n",
       "      <td>Aston Villa</td>\n",
       "      <td>D</td>\n",
       "      <td>True</td>\n",
       "    </tr>\n",
       "    <tr>\n",
       "      <th>41</th>\n",
       "      <td>974</td>\n",
       "      <td>44857</td>\n",
       "      <td>2012-05-06</td>\n",
       "      <td>West Brom</td>\n",
       "      <td>Bolton</td>\n",
       "      <td>D</td>\n",
       "      <td>True</td>\n",
       "    </tr>\n",
       "    <tr>\n",
       "      <th>42</th>\n",
       "      <td>975</td>\n",
       "      <td>44858</td>\n",
       "      <td>2012-05-06</td>\n",
       "      <td>Sunderland</td>\n",
       "      <td>Fulham</td>\n",
       "      <td>H</td>\n",
       "      <td>True</td>\n",
       "    </tr>\n",
       "    <tr>\n",
       "      <th>43</th>\n",
       "      <td>976</td>\n",
       "      <td>44859</td>\n",
       "      <td>2012-05-06</td>\n",
       "      <td>Swansea</td>\n",
       "      <td>Man United</td>\n",
       "      <td>H</td>\n",
       "      <td>True</td>\n",
       "    </tr>\n",
       "    <tr>\n",
       "      <th>44</th>\n",
       "      <td>977</td>\n",
       "      <td>44860</td>\n",
       "      <td>2012-05-06</td>\n",
       "      <td>Man City</td>\n",
       "      <td>Newcastle</td>\n",
       "      <td>A</td>\n",
       "      <td>True</td>\n",
       "    </tr>\n",
       "    <tr>\n",
       "      <th>45</th>\n",
       "      <td>978</td>\n",
       "      <td>44861</td>\n",
       "      <td>2012-05-06</td>\n",
       "      <td>Stoke</td>\n",
       "      <td>QPR</td>\n",
       "      <td>H</td>\n",
       "      <td>True</td>\n",
       "    </tr>\n",
       "    <tr>\n",
       "      <th>46</th>\n",
       "      <td>979</td>\n",
       "      <td>44862</td>\n",
       "      <td>2012-05-06</td>\n",
       "      <td>Everton</td>\n",
       "      <td>Wolves</td>\n",
       "      <td>D</td>\n",
       "      <td>True</td>\n",
       "    </tr>\n",
       "  </tbody>\n",
       "</table>\n",
       "</div>"
      ],
      "text/plain": [
       "    index  Match_ID        Date        AwayTeam            HomeTeam FTR  rain\n",
       "0       8      1100  2011-09-18   Bayern Munich          Schalke 04   A  True\n",
       "1      18      1110  2011-12-17        Dortmund            Freiburg   A  True\n",
       "2      26      1118  2011-09-18        Dortmund            Hannover   H  True\n",
       "3      43      1135  2012-05-06         Dresden       Frankfurt FSV   D  True\n",
       "4      66      1158  2012-05-06        Duisburg  Fortuna Dusseldorf   D  True\n",
       "5      76      1168  2012-05-06   Ein Frankfurt           Karlsruhe   H  True\n",
       "6     127      1219  2011-08-05         Hamburg            Dortmund   H  True\n",
       "7     157      1249  2011-12-09       Karlsruhe            Duisburg   H  True\n",
       "8     192      1284  2011-12-17        Nurnberg          Leverkusen   A  True\n",
       "9     211      1303  2011-12-09      Schalke 04              Hertha   A  True\n",
       "10    221      1313  2011-12-17       Stuttgart           Wolfsburg   H  True\n",
       "11    254      1346  2011-12-17   Werder Bremen          Schalke 04   H  True\n",
       "12    259      1351  2011-12-17          Bochum       Frankfurt FSV   A  True\n",
       "13    264      1356  2012-05-06          Bochum      Erzgebirge Aue   H  True\n",
       "14    295      1387  2011-12-09   Hansa Rostock           Paderborn   H  True\n",
       "15    322      1414  2011-12-17          Hertha          Hoffenheim   D  True\n",
       "16    349      1441  2011-12-17     Munich 1860           Karlsruhe   A  True\n",
       "17    436      1528  2012-05-06  Greuther Furth       Hansa Rostock   D  True\n",
       "18    437      1529  2011-09-18  Greuther Furth              Aachen   D  True\n",
       "19    448      1540  2012-05-06          Aachen         Munich 1860   A  True\n",
       "20    453      1545  2011-08-05          Aachen            St Pauli   H  True\n",
       "21    460      1552  2012-05-06    Union Berlin             Cottbus   H  True\n",
       "22    486      1578  2011-12-09    Braunschweig         Munich 1860   H  True\n",
       "23    517      1609  2011-09-18       Paderborn              Bochum   A  True\n",
       "24    518      1610  2012-05-06       Paderborn            St Pauli   H  True\n",
       "25    521      1613  2011-08-05       Paderborn        Union Berlin   H  True\n",
       "26    530      1622  2011-12-17        Augsburg             Hamburg   D  True\n",
       "27    562      1654  2011-09-18   Frankfurt FSV         Munich 1860   H  True\n",
       "28    591      1683  2012-05-06      Ingolstadt        Braunschweig   H  True\n",
       "29    592      1684  2011-08-05      Ingolstadt  Fortuna Dusseldorf   H  True\n",
       "30    657     44540  2011-09-18        Man City              Fulham   D  True\n",
       "31    658     44541  2011-09-18         Chelsea          Man United   H  True\n",
       "32    659     44542  2011-09-18           Stoke          Sunderland   H  True\n",
       "33    660     44543  2011-09-18       Liverpool           Tottenham   H  True\n",
       "34    761     44644  2011-12-17       West Brom           Blackburn   A  True\n",
       "35    762     44645  2011-12-17         Norwich             Everton   D  True\n",
       "36    763     44646  2011-12-17          Bolton              Fulham   H  True\n",
       "37    764     44647  2011-12-17         Swansea           Newcastle   D  True\n",
       "38    765     44648  2011-12-17         Chelsea               Wigan   D  True\n",
       "39    766     44649  2011-12-17           Stoke              Wolves   A  True\n",
       "40    973     44856  2012-05-06       Tottenham         Aston Villa   D  True\n",
       "41    974     44857  2012-05-06       West Brom              Bolton   D  True\n",
       "42    975     44858  2012-05-06      Sunderland              Fulham   H  True\n",
       "43    976     44859  2012-05-06         Swansea          Man United   H  True\n",
       "44    977     44860  2012-05-06        Man City           Newcastle   A  True\n",
       "45    978     44861  2012-05-06           Stoke                 QPR   H  True\n",
       "46    979     44862  2012-05-06         Everton              Wolves   D  True"
      ]
     },
     "execution_count": 14,
     "metadata": {},
     "output_type": "execute_result"
    }
   ],
   "source": [
    "import pandas as pd\n",
    "from dateutil import parser\n",
    "import requests\n",
    "import sqlite3\n",
    "import datetime\n",
    "import warnings\n",
    "warnings.filterwarnings(\"ignore\")\n",
    "\n",
    "conn = sqlite3.connect('database.sqlite')\n",
    "c = conn.cursor()\n",
    "\n",
    "c.execute(\"\"\"SELECT * FROM Matches;\"\"\")\n",
    "matches = pd.DataFrame(c.fetchall())\n",
    "matches.columns = [x[0] for x in c.description]\n",
    "\n",
    "# Assumed location for Berlin for the purposes of this project.\n",
    "\n",
    "berlin_lat = '52.520008'\n",
    "berlin_long = '13.404954'\n",
    "\n",
    "api_key = '7101c14ab733bd8ed9e205263525841b'# USE YOUR OWN, YOU MOOCH\n",
    "\n",
    "class Weather():\n",
    "\n",
    "    \n",
    "    def __init__(self, dataframe, year, lat, long, DarkSky_API):\n",
    "        self.dataframe = dataframe\n",
    "        self.year = year\n",
    "        self.lat = lat\n",
    "        self.long = long\n",
    "        self.DarkSky_API = DarkSky_API\n",
    "\n",
    "    \n",
    "    def get_rain(self):\n",
    "        \"\"\"Time is timestamp, everything must be a string. Returns a list of DarkSky\n",
    "        information. If you've already run this before, you can comment out the API\n",
    "        call and reference a local file instead to save on API calls. Otherwise comment\n",
    "        out the read_csv line. Executed within the rainy_days function.\"\"\"\n",
    "    #     dark_sky = []\n",
    "    #     for days in time:\n",
    "    #         resp = requests.get('https://api.darksky.net/forecast/' + self.DarkSky_API + '/' + self.lat + ',' + self.long + ',' + days + '?exclude=flags,hourly,daily,alerts')\n",
    "    #         dark_sky.append(resp.json()['currently'])\n",
    "        dark_sky = pd.read_csv('weather.csv') # Comment out this line if you don't have the data already\n",
    "        return dark_sky\n",
    "\n",
    "    \n",
    "    def rainy_days(self):\n",
    "        gameDate = []\n",
    "\n",
    "        for i in range(len(self.dataframe['Date'])):\n",
    "            dt = parser.parse(self.dataframe['Date'][i])\n",
    "            gameDate.append(dt)\n",
    "        \n",
    "         # Creates the DataFrame we'll use, adds the timestamped column,\n",
    "        # and resets the index because we are now sorting by the year.\n",
    "        # Otherwise the range(len(x)) would not work. We also create a \n",
    "        # set of unique dates for use later on.\n",
    "\n",
    "        self.dataframe['gamedate'] = gameDate\n",
    "        matches_year = matches[matches[\"Season\"] == self.year].reset_index()\n",
    "        dates = list(set(matches_year['gamedate']))\n",
    "\n",
    "        timestamp = []\n",
    "        for date in range(len(dates)):\n",
    "            stamp = str(matches_year['gamedate'][date].timestamp())\n",
    "            timestamp.append(stamp[:-2])\n",
    "        \n",
    "         # This is the Dark Sky API call. Use a csv of the data you get to\n",
    "        # conserve API calls to easily stay under the 1k/day maximum. Using the\n",
    "        # set created earlier, you have 6 opportunities to pull all of the dates.\n",
    "        # Then we create a DataFrame of the response and filter that down to\n",
    "        # the columns we need.\n",
    "        \n",
    "        the_rain = Weather(self.lat, self.long, 2011, timestamp, self.DarkSky_API)\n",
    "            \n",
    "        ds_df = pd.DataFrame(the_rain.get_rain())\n",
    "\n",
    "        df_rain = pd.DataFrame(\n",
    "            {'rainy': ds_df['icon'],\n",
    "             'date': ds_df['time'],\n",
    "            })\n",
    "        # The Dark Sky data is in timestamp, so this brings it back to match\n",
    "        # the original data, create a new dataframe of the unique dates and \n",
    "        # the rain condition.\n",
    "\n",
    "        for day in range(len(ds_df['time'])):\n",
    "            ds_df['time'][day] = datetime.datetime.utcfromtimestamp(ds_df['time'][day]).strftime('%Y-%m-%d')\n",
    "\n",
    "        rain = pd.DataFrame(columns=['date', 'raining'])\n",
    "\n",
    "        rain['date'] = ds_df['time']\n",
    "        # Compare our unique dates in a loop and append the weather conditions.\n",
    "\n",
    "        for i in range(len(ds_df['precipType'])):\n",
    "            if ds_df['precipType'][i] == 'rain':\n",
    "                rain.raining[i] = True\n",
    "            else:\n",
    "                rain.raining[i] = False\n",
    "\n",
    "        rain_year = []\n",
    "        for i in range(len(matches_year['Date'])):\n",
    "            if matches_year['Date'][i] in list(rain.date[rain['raining'] == True]):\n",
    "                rain_year.append(True)\n",
    "            else:\n",
    "                rain_year.append(False)\n",
    "\n",
    "        matches_year['rain'] = rain_year\n",
    "        # Creates the result, output as a dataframe with the columns mentioned earlier.\n",
    "\n",
    "        result = matches_year[['Match_ID','Date','AwayTeam', 'HomeTeam', 'FTR', 'rain']]\n",
    "\n",
    "        return result\n",
    "    \n",
    "season = Weather(matches, 2011, berlin_lat, berlin_long, api_key)\n",
    "# Use this if you want a list of only the matches where it was raining.\n",
    "\n",
    "rainy_wins = season.rainy_days()[season.rainy_days()['rain'] == True].reset_index()\n",
    "\n",
    "rainy_wins\n",
    "\n"
   ]
  },
  {
   "cell_type": "markdown",
   "metadata": {},
   "source": [
    "### Creating Class for getting percentage"
   ]
  },
  {
   "cell_type": "code",
   "execution_count": 15,
   "metadata": {
    "scrolled": false
   },
   "outputs": [
    {
     "data": {
      "text/html": [
       "<div>\n",
       "<style scoped>\n",
       "    .dataframe tbody tr th:only-of-type {\n",
       "        vertical-align: middle;\n",
       "    }\n",
       "\n",
       "    .dataframe tbody tr th {\n",
       "        vertical-align: top;\n",
       "    }\n",
       "\n",
       "    .dataframe thead th {\n",
       "        text-align: right;\n",
       "    }\n",
       "</style>\n",
       "<table border=\"1\" class=\"dataframe\">\n",
       "  <thead>\n",
       "    <tr style=\"text-align: right;\">\n",
       "      <th></th>\n",
       "      <th>wins</th>\n",
       "      <th>appearances</th>\n",
       "      <th>winning_rain_pct</th>\n",
       "    </tr>\n",
       "  </thead>\n",
       "  <tbody>\n",
       "    <tr>\n",
       "      <th>Aachen</th>\n",
       "      <td>1.0</td>\n",
       "      <td>3</td>\n",
       "      <td>0.33</td>\n",
       "    </tr>\n",
       "    <tr>\n",
       "      <th>Aston Villa</th>\n",
       "      <td>0.0</td>\n",
       "      <td>1</td>\n",
       "      <td>0.00</td>\n",
       "    </tr>\n",
       "    <tr>\n",
       "      <th>Augsburg</th>\n",
       "      <td>0.0</td>\n",
       "      <td>1</td>\n",
       "      <td>0.00</td>\n",
       "    </tr>\n",
       "    <tr>\n",
       "      <th>Bayern Munich</th>\n",
       "      <td>1.0</td>\n",
       "      <td>1</td>\n",
       "      <td>1.00</td>\n",
       "    </tr>\n",
       "    <tr>\n",
       "      <th>Blackburn</th>\n",
       "      <td>0.0</td>\n",
       "      <td>1</td>\n",
       "      <td>0.00</td>\n",
       "    </tr>\n",
       "    <tr>\n",
       "      <th>Bochum</th>\n",
       "      <td>1.0</td>\n",
       "      <td>3</td>\n",
       "      <td>0.33</td>\n",
       "    </tr>\n",
       "    <tr>\n",
       "      <th>Bolton</th>\n",
       "      <td>0.0</td>\n",
       "      <td>2</td>\n",
       "      <td>0.00</td>\n",
       "    </tr>\n",
       "    <tr>\n",
       "      <th>Braunschweig</th>\n",
       "      <td>1.0</td>\n",
       "      <td>2</td>\n",
       "      <td>0.50</td>\n",
       "    </tr>\n",
       "    <tr>\n",
       "      <th>Chelsea</th>\n",
       "      <td>0.0</td>\n",
       "      <td>2</td>\n",
       "      <td>0.00</td>\n",
       "    </tr>\n",
       "    <tr>\n",
       "      <th>Cottbus</th>\n",
       "      <td>1.0</td>\n",
       "      <td>1</td>\n",
       "      <td>1.00</td>\n",
       "    </tr>\n",
       "    <tr>\n",
       "      <th>Dortmund</th>\n",
       "      <td>2.0</td>\n",
       "      <td>3</td>\n",
       "      <td>0.67</td>\n",
       "    </tr>\n",
       "    <tr>\n",
       "      <th>Dresden</th>\n",
       "      <td>0.0</td>\n",
       "      <td>1</td>\n",
       "      <td>0.00</td>\n",
       "    </tr>\n",
       "    <tr>\n",
       "      <th>Duisburg</th>\n",
       "      <td>1.0</td>\n",
       "      <td>2</td>\n",
       "      <td>0.50</td>\n",
       "    </tr>\n",
       "    <tr>\n",
       "      <th>Ein Frankfurt</th>\n",
       "      <td>0.0</td>\n",
       "      <td>1</td>\n",
       "      <td>0.00</td>\n",
       "    </tr>\n",
       "    <tr>\n",
       "      <th>Erzgebirge Aue</th>\n",
       "      <td>1.0</td>\n",
       "      <td>1</td>\n",
       "      <td>1.00</td>\n",
       "    </tr>\n",
       "    <tr>\n",
       "      <th>Everton</th>\n",
       "      <td>0.0</td>\n",
       "      <td>2</td>\n",
       "      <td>0.00</td>\n",
       "    </tr>\n",
       "    <tr>\n",
       "      <th>Fortuna Dusseldorf</th>\n",
       "      <td>1.0</td>\n",
       "      <td>2</td>\n",
       "      <td>0.50</td>\n",
       "    </tr>\n",
       "    <tr>\n",
       "      <th>Frankfurt FSV</th>\n",
       "      <td>0.0</td>\n",
       "      <td>3</td>\n",
       "      <td>0.00</td>\n",
       "    </tr>\n",
       "    <tr>\n",
       "      <th>Freiburg</th>\n",
       "      <td>0.0</td>\n",
       "      <td>1</td>\n",
       "      <td>0.00</td>\n",
       "    </tr>\n",
       "    <tr>\n",
       "      <th>Fulham</th>\n",
       "      <td>2.0</td>\n",
       "      <td>3</td>\n",
       "      <td>0.67</td>\n",
       "    </tr>\n",
       "    <tr>\n",
       "      <th>Greuther Furth</th>\n",
       "      <td>0.0</td>\n",
       "      <td>2</td>\n",
       "      <td>0.00</td>\n",
       "    </tr>\n",
       "    <tr>\n",
       "      <th>Hamburg</th>\n",
       "      <td>0.0</td>\n",
       "      <td>2</td>\n",
       "      <td>0.00</td>\n",
       "    </tr>\n",
       "    <tr>\n",
       "      <th>Hannover</th>\n",
       "      <td>1.0</td>\n",
       "      <td>1</td>\n",
       "      <td>1.00</td>\n",
       "    </tr>\n",
       "    <tr>\n",
       "      <th>Hansa Rostock</th>\n",
       "      <td>0.0</td>\n",
       "      <td>2</td>\n",
       "      <td>0.00</td>\n",
       "    </tr>\n",
       "    <tr>\n",
       "      <th>Hertha</th>\n",
       "      <td>0.0</td>\n",
       "      <td>2</td>\n",
       "      <td>0.00</td>\n",
       "    </tr>\n",
       "    <tr>\n",
       "      <th>Hoffenheim</th>\n",
       "      <td>0.0</td>\n",
       "      <td>1</td>\n",
       "      <td>0.00</td>\n",
       "    </tr>\n",
       "    <tr>\n",
       "      <th>Ingolstadt</th>\n",
       "      <td>0.0</td>\n",
       "      <td>2</td>\n",
       "      <td>0.00</td>\n",
       "    </tr>\n",
       "    <tr>\n",
       "      <th>Karlsruhe</th>\n",
       "      <td>1.0</td>\n",
       "      <td>3</td>\n",
       "      <td>0.33</td>\n",
       "    </tr>\n",
       "    <tr>\n",
       "      <th>Leverkusen</th>\n",
       "      <td>0.0</td>\n",
       "      <td>1</td>\n",
       "      <td>0.00</td>\n",
       "    </tr>\n",
       "    <tr>\n",
       "      <th>Liverpool</th>\n",
       "      <td>0.0</td>\n",
       "      <td>1</td>\n",
       "      <td>0.00</td>\n",
       "    </tr>\n",
       "    <tr>\n",
       "      <th>Man City</th>\n",
       "      <td>1.0</td>\n",
       "      <td>2</td>\n",
       "      <td>0.50</td>\n",
       "    </tr>\n",
       "    <tr>\n",
       "      <th>Man United</th>\n",
       "      <td>2.0</td>\n",
       "      <td>2</td>\n",
       "      <td>1.00</td>\n",
       "    </tr>\n",
       "    <tr>\n",
       "      <th>Munich 1860</th>\n",
       "      <td>3.0</td>\n",
       "      <td>4</td>\n",
       "      <td>0.75</td>\n",
       "    </tr>\n",
       "    <tr>\n",
       "      <th>Newcastle</th>\n",
       "      <td>0.0</td>\n",
       "      <td>2</td>\n",
       "      <td>0.00</td>\n",
       "    </tr>\n",
       "    <tr>\n",
       "      <th>Norwich</th>\n",
       "      <td>0.0</td>\n",
       "      <td>1</td>\n",
       "      <td>0.00</td>\n",
       "    </tr>\n",
       "    <tr>\n",
       "      <th>Nurnberg</th>\n",
       "      <td>1.0</td>\n",
       "      <td>1</td>\n",
       "      <td>1.00</td>\n",
       "    </tr>\n",
       "    <tr>\n",
       "      <th>Paderborn</th>\n",
       "      <td>2.0</td>\n",
       "      <td>4</td>\n",
       "      <td>0.50</td>\n",
       "    </tr>\n",
       "    <tr>\n",
       "      <th>QPR</th>\n",
       "      <td>1.0</td>\n",
       "      <td>1</td>\n",
       "      <td>1.00</td>\n",
       "    </tr>\n",
       "    <tr>\n",
       "      <th>Schalke 04</th>\n",
       "      <td>2.0</td>\n",
       "      <td>3</td>\n",
       "      <td>0.67</td>\n",
       "    </tr>\n",
       "    <tr>\n",
       "      <th>St Pauli</th>\n",
       "      <td>2.0</td>\n",
       "      <td>2</td>\n",
       "      <td>1.00</td>\n",
       "    </tr>\n",
       "    <tr>\n",
       "      <th>Stoke</th>\n",
       "      <td>1.0</td>\n",
       "      <td>3</td>\n",
       "      <td>0.33</td>\n",
       "    </tr>\n",
       "    <tr>\n",
       "      <th>Stuttgart</th>\n",
       "      <td>0.0</td>\n",
       "      <td>1</td>\n",
       "      <td>0.00</td>\n",
       "    </tr>\n",
       "    <tr>\n",
       "      <th>Sunderland</th>\n",
       "      <td>1.0</td>\n",
       "      <td>2</td>\n",
       "      <td>0.50</td>\n",
       "    </tr>\n",
       "    <tr>\n",
       "      <th>Swansea</th>\n",
       "      <td>0.0</td>\n",
       "      <td>2</td>\n",
       "      <td>0.00</td>\n",
       "    </tr>\n",
       "    <tr>\n",
       "      <th>Tottenham</th>\n",
       "      <td>1.0</td>\n",
       "      <td>2</td>\n",
       "      <td>0.50</td>\n",
       "    </tr>\n",
       "    <tr>\n",
       "      <th>Union Berlin</th>\n",
       "      <td>1.0</td>\n",
       "      <td>2</td>\n",
       "      <td>0.50</td>\n",
       "    </tr>\n",
       "    <tr>\n",
       "      <th>Werder Bremen</th>\n",
       "      <td>0.0</td>\n",
       "      <td>1</td>\n",
       "      <td>0.00</td>\n",
       "    </tr>\n",
       "    <tr>\n",
       "      <th>West Brom</th>\n",
       "      <td>1.0</td>\n",
       "      <td>2</td>\n",
       "      <td>0.50</td>\n",
       "    </tr>\n",
       "    <tr>\n",
       "      <th>Wigan</th>\n",
       "      <td>0.0</td>\n",
       "      <td>1</td>\n",
       "      <td>0.00</td>\n",
       "    </tr>\n",
       "    <tr>\n",
       "      <th>Wolfsburg</th>\n",
       "      <td>1.0</td>\n",
       "      <td>1</td>\n",
       "      <td>1.00</td>\n",
       "    </tr>\n",
       "    <tr>\n",
       "      <th>Wolves</th>\n",
       "      <td>0.0</td>\n",
       "      <td>2</td>\n",
       "      <td>0.00</td>\n",
       "    </tr>\n",
       "    <tr>\n",
       "      <th>tie game</th>\n",
       "      <td>13.0</td>\n",
       "      <td>0</td>\n",
       "      <td>0.00</td>\n",
       "    </tr>\n",
       "  </tbody>\n",
       "</table>\n",
       "</div>"
      ],
      "text/plain": [
       "                    wins  appearances  winning_rain_pct\n",
       "Aachen               1.0            3              0.33\n",
       "Aston Villa          0.0            1              0.00\n",
       "Augsburg             0.0            1              0.00\n",
       "Bayern Munich        1.0            1              1.00\n",
       "Blackburn            0.0            1              0.00\n",
       "Bochum               1.0            3              0.33\n",
       "Bolton               0.0            2              0.00\n",
       "Braunschweig         1.0            2              0.50\n",
       "Chelsea              0.0            2              0.00\n",
       "Cottbus              1.0            1              1.00\n",
       "Dortmund             2.0            3              0.67\n",
       "Dresden              0.0            1              0.00\n",
       "Duisburg             1.0            2              0.50\n",
       "Ein Frankfurt        0.0            1              0.00\n",
       "Erzgebirge Aue       1.0            1              1.00\n",
       "Everton              0.0            2              0.00\n",
       "Fortuna Dusseldorf   1.0            2              0.50\n",
       "Frankfurt FSV        0.0            3              0.00\n",
       "Freiburg             0.0            1              0.00\n",
       "Fulham               2.0            3              0.67\n",
       "Greuther Furth       0.0            2              0.00\n",
       "Hamburg              0.0            2              0.00\n",
       "Hannover             1.0            1              1.00\n",
       "Hansa Rostock        0.0            2              0.00\n",
       "Hertha               0.0            2              0.00\n",
       "Hoffenheim           0.0            1              0.00\n",
       "Ingolstadt           0.0            2              0.00\n",
       "Karlsruhe            1.0            3              0.33\n",
       "Leverkusen           0.0            1              0.00\n",
       "Liverpool            0.0            1              0.00\n",
       "Man City             1.0            2              0.50\n",
       "Man United           2.0            2              1.00\n",
       "Munich 1860          3.0            4              0.75\n",
       "Newcastle            0.0            2              0.00\n",
       "Norwich              0.0            1              0.00\n",
       "Nurnberg             1.0            1              1.00\n",
       "Paderborn            2.0            4              0.50\n",
       "QPR                  1.0            1              1.00\n",
       "Schalke 04           2.0            3              0.67\n",
       "St Pauli             2.0            2              1.00\n",
       "Stoke                1.0            3              0.33\n",
       "Stuttgart            0.0            1              0.00\n",
       "Sunderland           1.0            2              0.50\n",
       "Swansea              0.0            2              0.00\n",
       "Tottenham            1.0            2              0.50\n",
       "Union Berlin         1.0            2              0.50\n",
       "Werder Bremen        0.0            1              0.00\n",
       "West Brom            1.0            2              0.50\n",
       "Wigan                0.0            1              0.00\n",
       "Wolfsburg            1.0            1              1.00\n",
       "Wolves               0.0            2              0.00\n",
       "tie game            13.0            0              0.00"
      ]
     },
     "execution_count": 15,
     "metadata": {},
     "output_type": "execute_result"
    }
   ],
   "source": [
    "class Winning_in_the_Rain():\n",
    "\n",
    "    \"\"\" This is meant to work hand in hand with the dataframe the function\n",
    "        in weather.py produced. Outputs a dataframe with the teams as an index:\n",
    "            team (index)\n",
    "            wins\n",
    "            appearances\n",
    "            winning_rain_pct\"\"\"\n",
    "    \n",
    "    def __init__(self, dataframe):\n",
    "        self.dataframe = dataframe\n",
    "\n",
    "    def get_rain_wins(self):\n",
    "        raining_wins = pd.concat([self.dataframe, pd.get_dummies(self.dataframe['FTR'])], axis = 1).reset_index()\n",
    "                \n",
    "        away_games = pd.DataFrame(\n",
    "            {'away rain games': raining_wins['AwayTeam'].value_counts()    })\n",
    "        home_games = pd.DataFrame(\n",
    "            {'home rain games': raining_wins['HomeTeam'].value_counts()    })\n",
    "\n",
    "        # creates a column to indicate who won the game, and then puts the winning\n",
    "        # team into the column. 'tie game' is the default.\n",
    "        \n",
    "        raining_wins['winner'] = 'tie game'\n",
    "\n",
    "        for i in range(len(raining_wins['A'])):\n",
    "            if raining_wins['A'][i] == 1:\n",
    "                raining_wins['winner'][i] = raining_wins['AwayTeam'][i]\n",
    "            if raining_wins['H'][i] == 1:\n",
    "                raining_wins['winner'][i] = raining_wins['HomeTeam'][i]        \n",
    "\n",
    "        total_wins = pd.DataFrame(\n",
    "            {'wins': raining_wins['winner'].value_counts()\n",
    "            })\n",
    "\n",
    "        # add a column to tally the number of games played, calculates the winning percentages.\n",
    "        \n",
    "        appearances = pd.concat([away_games, home_games, total_wins], axis = 1)\n",
    "        appearances['appearances'] = 0\n",
    "        appearances = appearances.fillna(0)\n",
    "\n",
    "        for i in range(len(appearances['home rain games'])):\n",
    "            appearances['appearances'][i] = appearances['home rain games'][i] + appearances['away rain games'][i]\n",
    "\n",
    "        winning_rain_pct = []\n",
    "        for i in range(len(appearances['home rain games'])):\n",
    "            if appearances['appearances'][i] == 0:\n",
    "                winning_rain_pct.append(0)\n",
    "            else:\n",
    "                winning_rain_pct.append(round(float(appearances['wins'][i]) / float(appearances['appearances'][i]), 2))\n",
    "\n",
    "        appearances['winning_rain_pct'] = winning_rain_pct\n",
    "\n",
    "        appearances = appearances.fillna('0').drop(['home rain games', 'away rain games'], axis=1)\n",
    "        return appearances\n",
    "\n",
    "season2011 = Winning_in_the_Rain(rainy_wins)\n",
    "season2011.get_rain_wins()"
   ]
  },
  {
   "cell_type": "code",
   "execution_count": 16,
   "metadata": {},
   "outputs": [],
   "source": [
    "rain_win= season2011.get_rain_wins()"
   ]
  },
  {
   "cell_type": "code",
   "execution_count": 17,
   "metadata": {
    "scrolled": false
   },
   "outputs": [],
   "source": [
    "team_name_rain = [] #get all the teams that competed in the rain and add to list\n",
    "for i in range(len(rain_win)-1):\n",
    "    team_name_rain.append(rain_win.iloc[i].name)"
   ]
  },
  {
   "cell_type": "code",
   "execution_count": 18,
   "metadata": {},
   "outputs": [
    {
     "data": {
      "text/plain": [
       "['Aachen',\n",
       " 'Aston Villa',\n",
       " 'Augsburg',\n",
       " 'Bayern Munich',\n",
       " 'Blackburn',\n",
       " 'Bochum',\n",
       " 'Bolton',\n",
       " 'Braunschweig',\n",
       " 'Chelsea',\n",
       " 'Cottbus',\n",
       " 'Dortmund',\n",
       " 'Dresden',\n",
       " 'Duisburg',\n",
       " 'Ein Frankfurt',\n",
       " 'Erzgebirge Aue',\n",
       " 'Everton',\n",
       " 'Fortuna Dusseldorf',\n",
       " 'Frankfurt FSV',\n",
       " 'Freiburg',\n",
       " 'Fulham',\n",
       " 'Greuther Furth',\n",
       " 'Hamburg',\n",
       " 'Hannover',\n",
       " 'Hansa Rostock',\n",
       " 'Hertha',\n",
       " 'Hoffenheim',\n",
       " 'Ingolstadt',\n",
       " 'Karlsruhe',\n",
       " 'Leverkusen',\n",
       " 'Liverpool',\n",
       " 'Man City',\n",
       " 'Man United',\n",
       " 'Munich 1860',\n",
       " 'Newcastle',\n",
       " 'Norwich',\n",
       " 'Nurnberg',\n",
       " 'Paderborn',\n",
       " 'QPR',\n",
       " 'Schalke 04',\n",
       " 'St Pauli',\n",
       " 'Stoke',\n",
       " 'Stuttgart',\n",
       " 'Sunderland',\n",
       " 'Swansea',\n",
       " 'Tottenham',\n",
       " 'Union Berlin',\n",
       " 'Werder Bremen',\n",
       " 'West Brom',\n",
       " 'Wigan',\n",
       " 'Wolfsburg',\n",
       " 'Wolves']"
      ]
     },
     "execution_count": 18,
     "metadata": {},
     "output_type": "execute_result"
    }
   ],
   "source": [
    "team_name_rain"
   ]
  },
  {
   "cell_type": "code",
   "execution_count": 19,
   "metadata": {
    "scrolled": true
   },
   "outputs": [],
   "source": [
    "rain_win_percent_dict={} #putting all team in the dictionary to have all team even those \n",
    "#who didn't compete in the rain.\n",
    "for i in namelist:\n",
    "    if i in team_name_rain:\n",
    "        rain_win_percent_dict[i] = rain_win.loc[i]['winning_rain_pct'] #if in the rain list then add name and percentge\n",
    "    else:\n",
    "        rain_win_percent_dict[i] = None #if not in the rain list, then added into th dict with value None"
   ]
  },
  {
   "cell_type": "code",
   "execution_count": 20,
   "metadata": {
    "scrolled": true
   },
   "outputs": [
    {
     "data": {
      "text/plain": [
       "{'Aachen': 0.33,\n",
       " 'Arsenal': None,\n",
       " 'Aston Villa': 0.0,\n",
       " 'Augsburg': 0.0,\n",
       " 'Bayern Munich': 1.0,\n",
       " 'Blackburn': 0.0,\n",
       " 'Bochum': 0.33,\n",
       " 'Bolton': 0.0,\n",
       " 'Braunschweig': 0.5,\n",
       " 'Chelsea': 0.0,\n",
       " 'Cottbus': 1.0,\n",
       " 'Dortmund': 0.67,\n",
       " 'Dresden': 0.0,\n",
       " 'Duisburg': 0.5,\n",
       " 'Ein Frankfurt': 0.0,\n",
       " 'Erzgebirge Aue': 1.0,\n",
       " 'Everton': 0.0,\n",
       " 'FC Koln': None,\n",
       " 'Fortuna Dusseldorf': 0.5,\n",
       " 'Frankfurt FSV': 0.0,\n",
       " 'Freiburg': 0.0,\n",
       " 'Fulham': 0.67,\n",
       " 'Greuther Furth': 0.0,\n",
       " 'Hamburg': 0.0,\n",
       " 'Hannover': 1.0,\n",
       " 'Hansa Rostock': 0.0,\n",
       " 'Hertha': 0.0,\n",
       " 'Hoffenheim': 0.0,\n",
       " 'Ingolstadt': 0.0,\n",
       " 'Kaiserslautern': None,\n",
       " 'Karlsruhe': 0.33,\n",
       " 'Leverkusen': 0.0,\n",
       " 'Liverpool': 0.0,\n",
       " \"M'gladbach\": None,\n",
       " 'Mainz': None,\n",
       " 'Man City': 0.5,\n",
       " 'Man United': 1.0,\n",
       " 'Munich 1860': 0.75,\n",
       " 'Newcastle': 0.0,\n",
       " 'Norwich': 0.0,\n",
       " 'Nurnberg': 1.0,\n",
       " 'Paderborn': 0.5,\n",
       " 'QPR': 1.0,\n",
       " 'Schalke 04': 0.67,\n",
       " 'St Pauli': 1.0,\n",
       " 'Stoke': 0.33,\n",
       " 'Stuttgart': 0.0,\n",
       " 'Sunderland': 0.5,\n",
       " 'Swansea': 0.0,\n",
       " 'Tottenham': 0.5,\n",
       " 'Union Berlin': 0.5,\n",
       " 'Werder Bremen': 0.0,\n",
       " 'West Brom': 0.5,\n",
       " 'Wigan': 0.0,\n",
       " 'Wolfsburg': 1.0,\n",
       " 'Wolves': 0.0}"
      ]
     },
     "execution_count": 20,
     "metadata": {},
     "output_type": "execute_result"
    }
   ],
   "source": [
    "rain_win_percent_dict"
   ]
  },
  {
   "cell_type": "code",
   "execution_count": 21,
   "metadata": {},
   "outputs": [
    {
     "data": {
      "text/plain": [
       "0.33"
      ]
     },
     "execution_count": 21,
     "metadata": {},
     "output_type": "execute_result"
    }
   ],
   "source": [
    "rain_win_percent_dict['Aachen']"
   ]
  },
  {
   "cell_type": "markdown",
   "metadata": {},
   "source": [
    "Create a mongodb connection, create a database called 'team_database'"
   ]
  },
  {
   "cell_type": "code",
   "execution_count": 22,
   "metadata": {},
   "outputs": [],
   "source": [
    "myclient = pymongo.MongoClient('mongodb://localhost:27017')\n",
    "mydb = myclient['team_database'] #initializing"
   ]
  },
  {
   "cell_type": "markdown",
   "metadata": {},
   "source": [
    "Create the collection 'team_collection' within 'team_database'"
   ]
  },
  {
   "cell_type": "code",
   "execution_count": 23,
   "metadata": {},
   "outputs": [],
   "source": [
    "mycollection = mydb['team_collection'] #assigning collection"
   ]
  },
  {
   "cell_type": "code",
   "execution_count": 24,
   "metadata": {},
   "outputs": [
    {
     "data": {
      "text/html": [
       "<div>\n",
       "<style scoped>\n",
       "    .dataframe tbody tr th:only-of-type {\n",
       "        vertical-align: middle;\n",
       "    }\n",
       "\n",
       "    .dataframe tbody tr th {\n",
       "        vertical-align: top;\n",
       "    }\n",
       "\n",
       "    .dataframe thead th {\n",
       "        text-align: right;\n",
       "    }\n",
       "</style>\n",
       "<table border=\"1\" class=\"dataframe\">\n",
       "  <thead>\n",
       "    <tr style=\"text-align: right;\">\n",
       "      <th></th>\n",
       "      <th>Team</th>\n",
       "      <th>Total Win</th>\n",
       "    </tr>\n",
       "  </thead>\n",
       "  <tbody>\n",
       "    <tr>\n",
       "      <th>1</th>\n",
       "      <td>Arsenal</td>\n",
       "      <td>21</td>\n",
       "    </tr>\n",
       "  </tbody>\n",
       "</table>\n",
       "</div>"
      ],
      "text/plain": [
       "      Team  Total Win\n",
       "1  Arsenal         21"
      ]
     },
     "execution_count": 24,
     "metadata": {},
     "output_type": "execute_result"
    }
   ],
   "source": [
    "g1.win_by_team(namelist[1])"
   ]
  },
  {
   "cell_type": "code",
   "execution_count": 25,
   "metadata": {},
   "outputs": [],
   "source": [
    "from tqdm import tqdm_notebook as tqdm"
   ]
  },
  {
   "cell_type": "code",
   "execution_count": 29,
   "metadata": {},
   "outputs": [],
   "source": [
    "import matplotlib.pyplot as plt"
   ]
  },
  {
   "cell_type": "code",
   "execution_count": 61,
   "metadata": {},
   "outputs": [
    {
     "data": {
      "text/plain": [
       "28"
      ]
     },
     "execution_count": 61,
     "metadata": {},
     "output_type": "execute_result"
    }
   ],
   "source": [
    "g1.win_by_team(namelist)['Total Win'].max()"
   ]
  },
  {
   "cell_type": "code",
   "execution_count": 54,
   "metadata": {},
   "outputs": [
    {
     "data": {
      "application/vnd.jupyter.widget-view+json": {
       "model_id": "b41e52de70cf42b296e46d13e97ae6ba",
       "version_major": 2,
       "version_minor": 0
      },
      "text/plain": [
       "HBox(children=(IntProgress(value=0, max=56), HTML(value='')))"
      ]
     },
     "metadata": {},
     "output_type": "display_data"
    },
    {
     "ename": "TypeError",
     "evalue": "int() argument must be a string, a bytes-like object or a number, not 'DataFrame'",
     "output_type": "error",
     "traceback": [
      "\u001b[0;31m---------------------------------------------------------------------------\u001b[0m",
      "\u001b[0;31mTypeError\u001b[0m                                 Traceback (most recent call last)",
      "\u001b[0;32m<ipython-input-54-97abdce4ee1d>\u001b[0m in \u001b[0;36m<module>\u001b[0;34m()\u001b[0m\n\u001b[1;32m      2\u001b[0m \u001b[0mcount_losses\u001b[0m \u001b[0;34m=\u001b[0m \u001b[0;34m[\u001b[0m\u001b[0;34m]\u001b[0m\u001b[0;34m\u001b[0m\u001b[0m\n\u001b[1;32m      3\u001b[0m \u001b[0;32mfor\u001b[0m \u001b[0mi\u001b[0m \u001b[0;32min\u001b[0m \u001b[0mtqdm\u001b[0m\u001b[0;34m(\u001b[0m\u001b[0mrange\u001b[0m\u001b[0;34m(\u001b[0m\u001b[0mlen\u001b[0m\u001b[0;34m(\u001b[0m\u001b[0mnamelist\u001b[0m\u001b[0;34m)\u001b[0m\u001b[0;34m)\u001b[0m\u001b[0;34m)\u001b[0m\u001b[0;34m:\u001b[0m \u001b[0;31m#making all graphs with this loop\u001b[0m\u001b[0;34m\u001b[0m\u001b[0m\n\u001b[0;32m----> 4\u001b[0;31m     \u001b[0mcount_wins\u001b[0m\u001b[0;34m.\u001b[0m\u001b[0mappend\u001b[0m\u001b[0;34m(\u001b[0m\u001b[0mint\u001b[0m\u001b[0;34m(\u001b[0m\u001b[0mg1\u001b[0m\u001b[0;34m.\u001b[0m\u001b[0mloss_by_team\u001b[0m\u001b[0;34m(\u001b[0m\u001b[0mnamelist\u001b[0m\u001b[0;34m[\u001b[0m\u001b[0mi\u001b[0m\u001b[0;34m]\u001b[0m\u001b[0;34m)\u001b[0m\u001b[0;34m)\u001b[0m\u001b[0;34m)\u001b[0m\u001b[0;34m\u001b[0m\u001b[0m\n\u001b[0m\u001b[1;32m      5\u001b[0m     \u001b[0mcount_losses\u001b[0m\u001b[0;34m.\u001b[0m\u001b[0mappend\u001b[0m\u001b[0;34m(\u001b[0m\u001b[0mint\u001b[0m\u001b[0;34m(\u001b[0m\u001b[0mg1\u001b[0m\u001b[0;34m.\u001b[0m\u001b[0mloss_by_team\u001b[0m\u001b[0;34m(\u001b[0m\u001b[0mnamelist\u001b[0m\u001b[0;34m[\u001b[0m\u001b[0mi\u001b[0m\u001b[0;34m]\u001b[0m\u001b[0;34m)\u001b[0m\u001b[0;34m)\u001b[0m\u001b[0;34m)\u001b[0m\u001b[0;34m\u001b[0m\u001b[0m\n",
      "\u001b[0;31mTypeError\u001b[0m: int() argument must be a string, a bytes-like object or a number, not 'DataFrame'"
     ]
    }
   ],
   "source": [
    "count_wins = []\n",
    "count_losses = []\n",
    "for i in tqdm(range(len(namelist))): #making all graphs with this loop\n",
    "    count_wins.append(int(g1.loss_by_team(namelist[i])))\n",
    "    count_losses.append(int(g1.loss_by_team(namelist[i])))"
   ]
  },
  {
   "cell_type": "code",
   "execution_count": 62,
   "metadata": {},
   "outputs": [
    {
     "data": {
      "application/vnd.jupyter.widget-view+json": {
       "model_id": "c827af95ec054e01a7cbd137fdfcd1bb",
       "version_major": 2,
       "version_minor": 0
      },
      "text/plain": [
       "HBox(children=(IntProgress(value=0, max=56), HTML(value='')))"
      ]
     },
     "metadata": {},
     "output_type": "display_data"
    },
    {
     "data": {
      "image/png": "[encoded data removed]",
      "text/plain": [
       "<Figure size 432x288 with 1 Axes>"
      ]
     },
     "metadata": {
      "needs_background": "light"
     },
     "output_type": "display_data"
    },
    {
     "data": {
      "image/png": "[encoded data removed]",
      "text/plain": [
       "<Figure size 432x288 with 1 Axes>"
      ]
     },
     "metadata": {
      "needs_background": "light"
     },
     "output_type": "display_data"
    },
    {
     "data": {
      "image/png": "[encoded data removed]",
      "text/plain": [
       "<Figure size 432x288 with 1 Axes>"
      ]
     },
     "metadata": {
      "needs_background": "light"
     },
     "output_type": "display_data"
    },
    {
     "data": {
      "image/png": "[encoded data removed]",
      "text/plain": [
       "<Figure size 432x288 with 1 Axes>"
      ]
     },
     "metadata": {
      "needs_background": "light"
     },
     "output_type": "display_data"
    },
    {
     "data": {
      "image/png": "[encoded data removed]",
      "text/plain": [
       "<Figure size 432x288 with 1 Axes>"
      ]
     },
     "metadata": {
      "needs_background": "light"
     },
     "output_type": "display_data"
    },
    {
     "data": {
      "image/png": "[encoded data removed]",
      "text/plain": [
       "<Figure size 432x288 with 1 Axes>"
      ]
     },
     "metadata": {
      "needs_background": "light"
     },
     "output_type": "display_data"
    },
    {
     "data": {
      "image/png": "[encoded data removed]",
      "text/plain": [
       "<Figure size 432x288 with 1 Axes>"
      ]
     },
     "metadata": {
      "needs_background": "light"
     },
     "output_type": "display_data"
    },
    {
     "data": {
      "image/png": "[encoded data removed]",
      "text/plain": [
       "<Figure size 432x288 with 1 Axes>"
      ]
     },
     "metadata": {
      "needs_background": "light"
     },
     "output_type": "display_data"
    },
    {
     "data": {
      "image/png": "[encoded data removed]",
      "text/plain": [
       "<Figure size 432x288 with 1 Axes>"
      ]
     },
     "metadata": {
      "needs_background": "light"
     },
     "output_type": "display_data"
    },
    {
     "data": {
      "image/png": "[encoded data removed]",
      "text/plain": [
       "<Figure size 432x288 with 1 Axes>"
      ]
     },
     "metadata": {
      "needs_background": "light"
     },
     "output_type": "display_data"
    },
    {
     "data": {
      "image/png": "[encoded data removed]",
      "text/plain": [
       "<Figure size 432x288 with 1 Axes>"
      ]
     },
     "metadata": {
      "needs_background": "light"
     },
     "output_type": "display_data"
    },
    {
     "data": {
      "image/png": "[encoded data removed]",
      "text/plain": [
       "<Figure size 432x288 with 1 Axes>"
      ]
     },
     "metadata": {
      "needs_background": "light"
     },
     "output_type": "display_data"
    },
    {
     "data": {
      "image/png": "[encoded data removed]",
      "text/plain": [
       "<Figure size 432x288 with 1 Axes>"
      ]
     },
     "metadata": {
      "needs_background": "light"
     },
     "output_type": "display_data"
    },
    {
     "data": {
      "image/png": "[encoded data removed]",
      "text/plain": [
       "<Figure size 432x288 with 1 Axes>"
      ]
     },
     "metadata": {
      "needs_background": "light"
     },
     "output_type": "display_data"
    },
    {
     "data": {
      "image/png": "[encoded data removed]",
      "text/plain": [
       "<Figure size 432x288 with 1 Axes>"
      ]
     },
     "metadata": {
      "needs_background": "light"
     },
     "output_type": "display_data"
    },
    {
     "data": {
      "image/png": "[encoded data removed]",
      "text/plain": [
       "<Figure size 432x288 with 1 Axes>"
      ]
     },
     "metadata": {
      "needs_background": "light"
     },
     "output_type": "display_data"
    },
    {
     "data": {
      "image/png": "[encoded data removed]",
      "text/plain": [
       "<Figure size 432x288 with 1 Axes>"
      ]
     },
     "metadata": {
      "needs_background": "light"
     },
     "output_type": "display_data"
    },
    {
     "data": {
      "image/png": "[encoded data removed]",
      "text/plain": [
       "<Figure size 432x288 with 1 Axes>"
      ]
     },
     "metadata": {
      "needs_background": "light"
     },
     "output_type": "display_data"
    },
    {
     "data": {
      "image/png": "[encoded data removed]",
      "text/plain": [
       "<Figure size 432x288 with 1 Axes>"
      ]
     },
     "metadata": {
      "needs_background": "light"
     },
     "output_type": "display_data"
    },
    {
     "data": {
      "image/png": "[encoded data removed]",
      "text/plain": [
       "<Figure size 432x288 with 1 Axes>"
      ]
     },
     "metadata": {
      "needs_background": "light"
     },
     "output_type": "display_data"
    },
    {
     "data": {
      "image/png": "[encoded data removed]",
      "text/plain": [
       "<Figure size 432x288 with 1 Axes>"
      ]
     },
     "metadata": {
      "needs_background": "light"
     },
     "output_type": "display_data"
    },
    {
     "data": {
      "image/png": "[encoded data removed]",
      "text/plain": [
       "<Figure size 432x288 with 1 Axes>"
      ]
     },
     "metadata": {
      "needs_background": "light"
     },
     "output_type": "display_data"
    },
    {
     "data": {
      "image/png": "[encoded data removed]",
      "text/plain": [
       "<Figure size 432x288 with 1 Axes>"
      ]
     },
     "metadata": {
      "needs_background": "light"
     },
     "output_type": "display_data"
    },
    {
     "data": {
      "image/png": "[encoded data removed]",
      "text/plain": [
       "<Figure size 432x288 with 1 Axes>"
      ]
     },
     "metadata": {
      "needs_background": "light"
     },
     "output_type": "display_data"
    },
    {
     "data": {
      "image/png": "[encoded data removed]",
      "text/plain": [
       "<Figure size 432x288 with 1 Axes>"
      ]
     },
     "metadata": {
      "needs_background": "light"
     },
     "output_type": "display_data"
    },
    {
     "data": {
      "image/png": "[encoded data removed]",
      "text/plain": [
       "<Figure size 432x288 with 1 Axes>"
      ]
     },
     "metadata": {
      "needs_background": "light"
     },
     "output_type": "display_data"
    },
    {
     "data": {
      "image/png": "[encoded data removed]",
      "text/plain": [
       "<Figure size 432x288 with 1 Axes>"
      ]
     },
     "metadata": {
      "needs_background": "light"
     },
     "output_type": "display_data"
    },
    {
     "data": {
      "image/png": "[encoded data removed]",
      "text/plain": [
       "<Figure size 432x288 with 1 Axes>"
      ]
     },
     "metadata": {
      "needs_background": "light"
     },
     "output_type": "display_data"
    },
    {
     "data": {
      "image/png": "[encoded data removed]",
      "text/plain": [
       "<Figure size 432x288 with 1 Axes>"
      ]
     },
     "metadata": {
      "needs_background": "light"
     },
     "output_type": "display_data"
    },
    {
     "data": {
      "image/png": "[encoded data removed]",
      "text/plain": [
       "<Figure size 432x288 with 1 Axes>"
      ]
     },
     "metadata": {
      "needs_background": "light"
     },
     "output_type": "display_data"
    },
    {
     "data": {
      "image/png": "[encoded data removed]",
      "text/plain": [
       "<Figure size 432x288 with 1 Axes>"
      ]
     },
     "metadata": {
      "needs_background": "light"
     },
     "output_type": "display_data"
    },
    {
     "data": {
      "image/png": "[encoded data removed]",
      "text/plain": [
       "<Figure size 432x288 with 1 Axes>"
      ]
     },
     "metadata": {
      "needs_background": "light"
     },
     "output_type": "display_data"
    },
    {
     "data": {
      "image/png": "[encoded data removed]",
      "text/plain": [
       "<Figure size 432x288 with 1 Axes>"
      ]
     },
     "metadata": {
      "needs_background": "light"
     },
     "output_type": "display_data"
    },
    {
     "data": {
      "image/png": "[encoded data removed]",
      "text/plain": [
       "<Figure size 432x288 with 1 Axes>"
      ]
     },
     "metadata": {
      "needs_background": "light"
     },
     "output_type": "display_data"
    },
    {
     "data": {
      "image/png": "[encoded data removed]",
      "text/plain": [
       "<Figure size 432x288 with 1 Axes>"
      ]
     },
     "metadata": {
      "needs_background": "light"
     },
     "output_type": "display_data"
    },
    {
     "data": {
      "image/png": "[encoded data removed]",
      "text/plain": [
       "<Figure size 432x288 with 1 Axes>"
      ]
     },
     "metadata": {
      "needs_background": "light"
     },
     "output_type": "display_data"
    },
    {
     "data": {
      "image/png": "[encoded data removed]",
      "text/plain": [
       "<Figure size 432x288 with 1 Axes>"
      ]
     },
     "metadata": {
      "needs_background": "light"
     },
     "output_type": "display_data"
    },
    {
     "data": {
      "image/png": "[encoded data removed]",
      "text/plain": [
       "<Figure size 432x288 with 1 Axes>"
      ]
     },
     "metadata": {
      "needs_background": "light"
     },
     "output_type": "display_data"
    },
    {
     "data": {
      "image/png": "[encoded data removed]",
      "text/plain": [
       "<Figure size 432x288 with 1 Axes>"
      ]
     },
     "metadata": {
      "needs_background": "light"
     },
     "output_type": "display_data"
    },
    {
     "data": {
      "image/png": "[encoded data removed]",
      "text/plain": [
       "<Figure size 432x288 with 1 Axes>"
      ]
     },
     "metadata": {
      "needs_background": "light"
     },
     "output_type": "display_data"
    },
    {
     "data": {
      "image/png": "[encoded data removed]",
      "text/plain": [
       "<Figure size 432x288 with 1 Axes>"
      ]
     },
     "metadata": {
      "needs_background": "light"
     },
     "output_type": "display_data"
    },
    {
     "data": {
      "image/png": "[encoded data removed]",
      "text/plain": [
       "<Figure size 432x288 with 1 Axes>"
      ]
     },
     "metadata": {
      "needs_background": "light"
     },
     "output_type": "display_data"
    },
    {
     "data": {
      "image/png": "[encoded data removed]",
      "text/plain": [
       "<Figure size 432x288 with 1 Axes>"
      ]
     },
     "metadata": {
      "needs_background": "light"
     },
     "output_type": "display_data"
    },
    {
     "data": {
      "image/png": "[encoded data removed]",
      "text/plain": [
       "<Figure size 432x288 with 1 Axes>"
      ]
     },
     "metadata": {
      "needs_background": "light"
     },
     "output_type": "display_data"
    },
    {
     "data": {
      "image/png": "[encoded data removed]",
      "text/plain": [
       "<Figure size 432x288 with 1 Axes>"
      ]
     },
     "metadata": {
      "needs_background": "light"
     },
     "output_type": "display_data"
    },
    {
     "data": {
      "image/png": "[encoded data removed]",
      "text/plain": [
       "<Figure size 432x288 with 1 Axes>"
      ]
     },
     "metadata": {
      "needs_background": "light"
     },
     "output_type": "display_data"
    },
    {
     "data": {
      "image/png": "[encoded data removed]",
      "text/plain": [
       "<Figure size 432x288 with 1 Axes>"
      ]
     },
     "metadata": {
      "needs_background": "light"
     },
     "output_type": "display_data"
    },
    {
     "data": {
      "image/png": "[encoded data removed]",
      "text/plain": [
       "<Figure size 432x288 with 1 Axes>"
      ]
     },
     "metadata": {
      "needs_background": "light"
     },
     "output_type": "display_data"
    },
    {
     "data": {
      "image/png": "[encoded data removed]",
      "text/plain": [
       "<Figure size 432x288 with 1 Axes>"
      ]
     },
     "metadata": {
      "needs_background": "light"
     },
     "output_type": "display_data"
    },
    {
     "data": {
      "image/png": "[encoded data removed]",
      "text/plain": [
       "<Figure size 432x288 with 1 Axes>"
      ]
     },
     "metadata": {
      "needs_background": "light"
     },
     "output_type": "display_data"
    },
    {
     "data": {
      "image/png": "[encoded data removed]",
      "text/plain": [
       "<Figure size 432x288 with 1 Axes>"
      ]
     },
     "metadata": {
      "needs_background": "light"
     },
     "output_type": "display_data"
    },
    {
     "data": {
      "image/png": "[encoded data removed]",
      "text/plain": [
       "<Figure size 432x288 with 1 Axes>"
      ]
     },
     "metadata": {
      "needs_background": "light"
     },
     "output_type": "display_data"
    },
    {
     "data": {
      "image/png": "[encoded data removed]",
      "text/plain": [
       "<Figure size 432x288 with 1 Axes>"
      ]
     },
     "metadata": {
      "needs_background": "light"
     },
     "output_type": "display_data"
    },
    {
     "data": {
      "image/png": "[encoded data removed]",
      "text/plain": [
       "<Figure size 432x288 with 1 Axes>"
      ]
     },
     "metadata": {
      "needs_background": "light"
     },
     "output_type": "display_data"
    },
    {
     "data": {
      "image/png": "[encoded data removed]",
      "text/plain": [
       "<Figure size 432x288 with 1 Axes>"
      ]
     },
     "metadata": {
      "needs_background": "light"
     },
     "output_type": "display_data"
    },
    {
     "data": {
      "image/png": "[encoded data removed]",
      "text/plain": [
       "<Figure size 432x288 with 1 Axes>"
      ]
     },
     "metadata": {
      "needs_background": "light"
     },
     "output_type": "display_data"
    }
   ],
   "source": [
    "bar_obj=[] #attempted to make a list of bar object but couldn't insert in mongodb\n",
    "for i in tqdm(range(len(namelist))): #making all graphs with this loop\n",
    "    win_bar = int(g1.win_by_team(namelist[i])['Total Win'])\n",
    "    loss_bar = int(g1.loss_by_team(namelist[i])['Total Loss'])\n",
    "    win_loss = win_bar*['Win']+ loss_bar*['Loss']\n",
    "    bar_obj.append(plt.hist(win_loss)) #append into list of bar obj\n",
    "    plt.xlabel('Win vs. Loss', fontsize=10) #visualization\n",
    "    plt.ylabel('No of Game', fontsize=10)\n",
    "    plt.ylim((0,30))\n",
    "#     plt.xticks(namelist.index, [0, 1], fontsize=10, rotation=30)\n",
    "    plt.title(namelist[i])\n",
    "    plt.savefig('pngs/' + namelist[i] + '.png')\n",
    "    plt.show()\n",
    "    \n",
    "    plt.close()"
   ]
  },
  {
   "cell_type": "code",
   "execution_count": null,
   "metadata": {
    "scrolled": true
   },
   "outputs": [],
   "source": [
    "list_of_team = [] #making list of team with all required info without graph\n",
    "for i in range(len(namelist)):\n",
    "    list_of_team.append({'name': namelist[i], 'total goal': int(goal[i]), 'total win': int(win[i]), 'rain win %': rain_win_percent_dict[namelist[i]], 'total loss': int(loss[i]), 'graph':'ALMOST IMPOSSIBLE TO DO.'})\n",
    "\n",
    "\n",
    "    \n",
    "        "
   ]
  },
  {
   "cell_type": "code",
   "execution_count": null,
   "metadata": {
    "scrolled": true
   },
   "outputs": [],
   "source": [
    "list_of_team "
   ]
  },
  {
   "cell_type": "code",
   "execution_count": null,
   "metadata": {
    "scrolled": true
   },
   "outputs": [],
   "source": [
    "result = mycollection.insert_many(list_of_team) #insert list into mongodb"
   ]
  },
  {
   "cell_type": "code",
   "execution_count": null,
   "metadata": {
    "scrolled": true
   },
   "outputs": [],
   "source": [
    "result.inserted_ids"
   ]
  },
  {
   "cell_type": "code",
   "execution_count": null,
   "metadata": {},
   "outputs": [],
   "source": []
  }
 ],
 "metadata": {
  "kernelspec": {
   "display_name": "learn-env",
   "language": "python",
   "name": "learn-env"
  },
  "language_info": {
   "codemirror_mode": {
    "name": "ipython",
    "version": 3
   },
   "file_extension": ".py",
   "mimetype": "text/x-python",
   "name": "python",
   "nbconvert_exporter": "python",
   "pygments_lexer": "ipython3",
   "version": "3.6.6"
  }
 },
 "nbformat": 4,
 "nbformat_minor": 2
}
